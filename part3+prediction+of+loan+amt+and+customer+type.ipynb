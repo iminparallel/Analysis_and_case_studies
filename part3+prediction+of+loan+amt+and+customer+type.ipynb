{
 "cells": [
  {
   "cell_type": "code",
   "execution_count": 709,
   "id": "00774021",
   "metadata": {},
   "outputs": [],
   "source": [
    "import numpy as np\n",
    "import pandas as pd\n",
    "import matplotlib.pyplot as plt\n",
    "import seaborn as sns"
   ]
  },
  {
   "cell_type": "code",
   "execution_count": 710,
   "id": "40771fb4",
   "metadata": {},
   "outputs": [],
   "source": [
    "import warnings\n",
    "warnings.filterwarnings('ignore')"
   ]
  },
  {
   "cell_type": "markdown",
   "id": "9f611751",
   "metadata": {},
   "source": [
    "In this script I will try to solve two business problems:\n",
    "\n",
    " - I will run a supervised algorithm to predict which are the prospective customers\n",
    " - Next I will try to predict what is the loan ammount the bank should offer a new customer\n",
    " - Let's see how the customer segmentation done here (tinyurl.com/k8a8wrsa) affects the analysis\n",
    " "
   ]
  },
  {
   "cell_type": "markdown",
   "id": "f52256f8",
   "metadata": {},
   "source": [
    "## Reading and Segmentating the data"
   ]
  },
  {
   "cell_type": "code",
   "execution_count": 711,
   "id": "bf1834ef",
   "metadata": {},
   "outputs": [],
   "source": [
    "df = pd.read_csv('feature_engineered_loansdataa.csv')"
   ]
  },
  {
   "cell_type": "code",
   "execution_count": 712,
   "id": "d8b67085",
   "metadata": {},
   "outputs": [],
   "source": [
    "def clusterMapping(x):\n",
    "    if x == 0:\n",
    "        return 'seg1'\n",
    "    elif x == 1:\n",
    "        return 'seg2'\n",
    "    else:\n",
    "        return 'seg3'"
   ]
  },
  {
   "cell_type": "code",
   "execution_count": 713,
   "id": "d987f331",
   "metadata": {},
   "outputs": [
    {
     "data": {
      "text/plain": [
       "1    188175\n",
       "0     96920\n",
       "2     19820\n",
       "Name: cluster_id, dtype: int64"
      ]
     },
     "execution_count": 713,
     "metadata": {},
     "output_type": "execute_result"
    }
   ],
   "source": [
    "df.cluster_id.value_counts()"
   ]
  },
  {
   "cell_type": "code",
   "execution_count": 714,
   "id": "ec7461c3",
   "metadata": {},
   "outputs": [],
   "source": [
    "df['cluster_id'] = df['cluster_id'].apply(clusterMapping) \n",
    "\n",
    "# mapping the cluster levels"
   ]
  },
  {
   "cell_type": "code",
   "execution_count": 715,
   "id": "e8edffdc",
   "metadata": {},
   "outputs": [],
   "source": [
    "def vardefiner(df):\n",
    "    lst = df.columns\n",
    "    l = []\n",
    "    l_i = []\n",
    "    l_f = []\n",
    "    l_c = []\n",
    "    l_b = []\n",
    "    for var in lst:\n",
    "        if (len(df[var].unique())<=2)&(df[var].dtype!='O'):\n",
    "            l_b.append(var)\n",
    "        elif df[var].dtype=='O':\n",
    "            l_c.append(var)\n",
    "        elif df[var].dtype=='float':\n",
    "            l_f.append(var)\n",
    "        else:\n",
    "            l_i.append(var)\n",
    "        \n",
    "    l = [l_b,l_c,l_f,l_i]\n",
    "    return(l)      # a function to classify the variables"
   ]
  },
  {
   "cell_type": "code",
   "execution_count": 716,
   "id": "c6feed2a",
   "metadata": {},
   "outputs": [],
   "source": [
    "varlist = vardefiner(df)\n",
    "binary_vars = varlist[0]\n",
    "cat_vars = varlist[1]\n",
    "float_vars = varlist[2]\n",
    "int_vars = varlist[3] # segmenting the variables"
   ]
  },
  {
   "cell_type": "code",
   "execution_count": 717,
   "id": "f73a761b",
   "metadata": {},
   "outputs": [],
   "source": [
    "df0 = df.copy()"
   ]
  },
  {
   "cell_type": "markdown",
   "id": "f4fc3fec",
   "metadata": {},
   "source": [
    "## Feature Selection\n",
    " - In a previous street I have analysed the numeric types \n",
    " - and selected the best performing numeric types\n",
    " - now I will rank the discrete and categorical types\n",
    " - this is the dataset of the selected numeric types"
   ]
  },
  {
   "cell_type": "code",
   "execution_count": 718,
   "id": "f251ddad",
   "metadata": {},
   "outputs": [],
   "source": [
    "df_features = pd.read_csv('variable_ranking.csv')"
   ]
  },
  {
   "cell_type": "code",
   "execution_count": 719,
   "id": "615328de",
   "metadata": {},
   "outputs": [],
   "source": [
    "df_features.set_index ('Unnamed: 0', inplace = True)"
   ]
  },
  {
   "cell_type": "code",
   "execution_count": 720,
   "id": "aa6cebb0",
   "metadata": {},
   "outputs": [],
   "source": [
    "numcols = df_features.T.columns"
   ]
  },
  {
   "cell_type": "code",
   "execution_count": 721,
   "id": "35ad42d4",
   "metadata": {},
   "outputs": [
    {
     "data": {
      "text/plain": [
       "Index(['PREV_AMT_CREDIT', 'REGION_POPULATION_RELATIVE', 'AMT_CREDIT',\n",
       "       'CREDIT_DIF', 'TOTAL_DOCUMENTS', 'EXP_TERM',\n",
       "       'PREV_HOUR_APPR_PROCESS_START', 'EXT_SOURCE_2',\n",
       "       'PREV_WEEKDAY_APPR_PROCESS_START', 'AGE_GRP',\n",
       "       'OBS_30_CNT_SOCIAL_CIRCLE', 'PERCENT_OF_VALUE', 'YEARS_EMPLOYED'],\n",
       "      dtype='object', name='Unnamed: 0')"
      ]
     },
     "execution_count": 721,
     "metadata": {},
     "output_type": "execute_result"
    }
   ],
   "source": [
    "numcols"
   ]
  },
  {
   "cell_type": "code",
   "execution_count": 722,
   "id": "5eed3140",
   "metadata": {},
   "outputs": [],
   "source": [
    "for colname in cat_vars:\n",
    "    df[colname], _ = df[colname].factorize()\n",
    "    \n",
    "    # converting the categorical to numeric levels"
   ]
  },
  {
   "cell_type": "code",
   "execution_count": 723,
   "id": "56e5b158",
   "metadata": {},
   "outputs": [],
   "source": [
    "X = df[binary_vars + cat_vars]\n",
    "y = X.pop('NAME_CONTRACT_STATUS')\n",
    "\n",
    "# first target variable(categorical)\n"
   ]
  },
  {
   "cell_type": "code",
   "execution_count": 724,
   "id": "ff37602e",
   "metadata": {},
   "outputs": [],
   "source": [
    "\n",
    "discrete_features = X.dtypes == int"
   ]
  },
  {
   "cell_type": "code",
   "execution_count": 725,
   "id": "201d5d99",
   "metadata": {},
   "outputs": [],
   "source": [
    "from sklearn.preprocessing import StandardScaler\n",
    "\n",
    "scaler = StandardScaler()\n",
    "\n",
    "# fit_transform\n",
    "\n",
    "int_vars.remove('SK_ID_CURR')\n",
    "int_vars.remove('SK_ID_PREV')\n",
    "\n",
    "df[float_vars+int_vars] = scaler.fit_transform(df[float_vars+int_vars])\n",
    "\n"
   ]
  },
  {
   "cell_type": "code",
   "execution_count": 726,
   "id": "23eca021",
   "metadata": {},
   "outputs": [],
   "source": [
    "y1 = df['AMT_APPLICATION']\n",
    "\n",
    "# second target variable(continuous)"
   ]
  },
  {
   "cell_type": "code",
   "execution_count": 727,
   "id": "0f395300",
   "metadata": {},
   "outputs": [],
   "source": [
    "from sklearn.feature_selection import mutual_info_regression\n",
    "def make_mi_scores(X, y, discrete_features):\n",
    "    mi_scores = mutual_info_regression(X, y, discrete_features=discrete_features)\n",
    "    mi_scores = pd.Series(mi_scores, name=\"MI Scores\", index=X.columns)\n",
    "    mi_scores = mi_scores.sort_values(ascending=False)\n",
    "    return mi_scores"
   ]
  },
  {
   "cell_type": "code",
   "execution_count": 728,
   "id": "e184dc31",
   "metadata": {},
   "outputs": [],
   "source": [
    "mi_scores1 = make_mi_scores(X, y, discrete_features) # for first target"
   ]
  },
  {
   "cell_type": "code",
   "execution_count": 729,
   "id": "26bb5a1a",
   "metadata": {},
   "outputs": [],
   "source": [
    "mi_scores2 = make_mi_scores(X, y1, discrete_features) #for second target"
   ]
  },
  {
   "cell_type": "code",
   "execution_count": 730,
   "id": "712db796",
   "metadata": {},
   "outputs": [],
   "source": [
    "def plot_mi_ca(scores):\n",
    "    scores = scores.sort_values(ascending = True)\n",
    "    width = np.arange(len(scores))\n",
    "    ticks = list(scores.index)\n",
    "    plt.barh(width, scores)\n",
    "    plt.yticks(width, ticks)\n",
    "    plt.title('Mutual Info Regressor for Categorical Target')"
   ]
  },
  {
   "cell_type": "code",
   "execution_count": 731,
   "id": "f0276206",
   "metadata": {},
   "outputs": [
    {
     "data": {
      "image/png": "[encoded data removed]",
      "text/plain": [
       "<Figure size 648x648 with 1 Axes>"
      ]
     },
     "metadata": {
      "needs_background": "light"
     },
     "output_type": "display_data"
    }
   ],
   "source": [
    "plt.figure(figsize = (9,9))\n",
    "plot_mi_ca(mi_scores1)"
   ]
  },
  {
   "cell_type": "markdown",
   "id": "15baffa3",
   "metadata": {},
   "source": [
    "CODE_REJECT_REASON, PRODUCT_COMBINATION, CHANNEL_TYPE, PREV_NAME_CONTRACT_TYPE, NAME_CLIENT_TYPE, cluster_id,FLAG_LAST_APPL_PER_CONTRACT, NFLAG_LST_APPL_IN_DAY"
   ]
  },
  {
   "cell_type": "code",
   "execution_count": 732,
   "id": "84c9d162",
   "metadata": {},
   "outputs": [],
   "source": [
    "def plot_mi_c(scores):\n",
    "    scores = scores.sort_values(ascending = True)\n",
    "    width = np.arange(len(scores))\n",
    "    ticks = list(scores.index)\n",
    "    plt.barh(width, scores)\n",
    "    plt.yticks(width, ticks)\n",
    "    plt.title('Mutual Info Regressor for Continuous Target')"
   ]
  },
  {
   "cell_type": "code",
   "execution_count": 733,
   "id": "d9208f6f",
   "metadata": {},
   "outputs": [
    {
     "data": {
      "image/png": "[encoded data removed]",
      "text/plain": [
       "<Figure size 648x648 with 1 Axes>"
      ]
     },
     "metadata": {
      "needs_background": "light"
     },
     "output_type": "display_data"
    }
   ],
   "source": [
    "plt.figure(figsize = (9,9))\n",
    "plot_mi_c(mi_scores2)"
   ]
  },
  {
   "cell_type": "markdown",
   "id": "736f2457",
   "metadata": {},
   "source": [
    "## Encoding Target for Classification"
   ]
  },
  {
   "cell_type": "code",
   "execution_count": 734,
   "id": "25632731",
   "metadata": {},
   "outputs": [
    {
     "data": {
      "text/plain": [
       "(array([191940.,      0.,      0.,  52346.,      0.,      0.,  55641.,\n",
       "             0.,      0.,   4988.]),\n",
       " array([0. , 0.3, 0.6, 0.9, 1.2, 1.5, 1.8, 2.1, 2.4, 2.7, 3. ]),\n",
       " <BarContainer object of 10 artists>)"
      ]
     },
     "execution_count": 734,
     "metadata": {},
     "output_type": "execute_result"
    },
    {
     "data": {
      "image/png": "[encoded data removed]",
      "text/plain": [
       "<Figure size 432x288 with 1 Axes>"
      ]
     },
     "metadata": {
      "needs_background": "light"
     },
     "output_type": "display_data"
    }
   ],
   "source": [
    "plt.hist(df0.NAME_CONTRACT_STATUS)"
   ]
  },
  {
   "cell_type": "code",
   "execution_count": 735,
   "id": "ca7c71d4",
   "metadata": {},
   "outputs": [
    {
     "data": {
      "text/plain": [
       "(array([2.4855e+05, 3.1189e+04, 1.0311e+04, 0.0000e+00, 4.9880e+03,\n",
       "        2.2970e+03, 0.0000e+00, 6.8300e+03, 6.1000e+02, 1.4000e+02]),\n",
       " array([0. , 0.7, 1.4, 2.1, 2.8, 3.5, 4.2, 4.9, 5.6, 6.3, 7. ]),\n",
       " <BarContainer object of 10 artists>)"
      ]
     },
     "execution_count": 735,
     "metadata": {},
     "output_type": "execute_result"
    },
    {
     "data": {
      "image/png": "[encoded data removed]",
      "text/plain": [
       "<Figure size 432x288 with 1 Axes>"
      ]
     },
     "metadata": {
      "needs_background": "light"
     },
     "output_type": "display_data"
    }
   ],
   "source": [
    "plt.hist(df0.CODE_REJECT_REASON)"
   ]
  },
  {
   "cell_type": "code",
   "execution_count": 736,
   "id": "95e6850b",
   "metadata": {},
   "outputs": [],
   "source": [
    "df0['Cust_type'] = df0['NAME_CONTRACT_STATUS']"
   ]
  },
  {
   "cell_type": "code",
   "execution_count": 737,
   "id": "af20a9ef",
   "metadata": {},
   "outputs": [
    {
     "data": {
      "text/plain": [
       "Approved        191940\n",
       "Canceled         55641\n",
       "Refused          52346\n",
       "Unused offer      4988\n",
       "Name: Cust_type, dtype: int64"
      ]
     },
     "execution_count": 737,
     "metadata": {},
     "output_type": "execute_result"
    }
   ],
   "source": [
    "df0['Cust_type'] .value_counts() # these are the four classes"
   ]
  },
  {
   "cell_type": "code",
   "execution_count": 738,
   "id": "6802fc9c",
   "metadata": {},
   "outputs": [
    {
     "data": {
      "text/plain": [
       "(304915, 63)"
      ]
     },
     "execution_count": 738,
     "metadata": {},
     "output_type": "execute_result"
    }
   ],
   "source": [
    "df1 = df0.copy()\n",
    "df1.shape"
   ]
  },
  {
   "cell_type": "markdown",
   "id": "26fe9d5a",
   "metadata": {},
   "source": [
    "### One important point\n",
    " - in my opinion this dataset is not beig enough for OneVsOne classification\n",
    " - OneVsOne would mean a total of 10 models\n",
    " - which would mean a little more than 30K points for each model\n",
    " - so the preferred method will be OneVsRest"
   ]
  },
  {
   "cell_type": "markdown",
   "id": "6ac7ef92",
   "metadata": {},
   "source": [
    "# Classification Problem\n",
    " - classification of customers based on theri behaviour"
   ]
  },
  {
   "cell_type": "markdown",
   "id": "15332470",
   "metadata": {},
   "source": [
    "## Dummy Preparation"
   ]
  },
  {
   "cell_type": "code",
   "execution_count": 739,
   "id": "3afb17b7",
   "metadata": {},
   "outputs": [],
   "source": [
    "d_list = ['PRODUCT_COMBINATION', 'CHANNEL_TYPE', 'NAME_CLIENT_TYPE', 'cluster_id', 'FLAG_LAST_APPL_PER_CONTRACT', 'NFLAG_LAST_APPL_IN_DAY', 'Cust_type']\n",
    "for var in numcols:\n",
    "    d_list.append(var)"
   ]
  },
  {
   "cell_type": "code",
   "execution_count": 740,
   "id": "22844bdf",
   "metadata": {},
   "outputs": [],
   "source": [
    "df0 = df0[d_list]"
   ]
  },
  {
   "cell_type": "code",
   "execution_count": 741,
   "id": "78b757c1",
   "metadata": {},
   "outputs": [],
   "source": [
    "varlist = vardefiner(df0)\n",
    "binary_vars = varlist[0]\n",
    "cat_vars = varlist[1]\n",
    "float_vars = varlist[2]\n",
    "int_vars = varlist[3]\n",
    "cat_vars.remove('Cust_type')"
   ]
  },
  {
   "cell_type": "code",
   "execution_count": 742,
   "id": "01ea3663",
   "metadata": {},
   "outputs": [],
   "source": [
    "def gettingdummies(df0,row):\n",
    "    for item in row:\n",
    "        dummy = pd.get_dummies(df0[item], drop_first = True).rename(columns = lambda x: item+'_'+str(x))\n",
    "        df0 = pd.concat([df0, dummy], axis = 1)\n",
    "        df0.drop([item], axis = 1, inplace = True)\n",
    "    return df0"
   ]
  },
  {
   "cell_type": "code",
   "execution_count": 743,
   "id": "39da57ab",
   "metadata": {},
   "outputs": [],
   "source": [
    "df0_dummy = gettingdummies(df0, cat_vars)"
   ]
  },
  {
   "cell_type": "code",
   "execution_count": 744,
   "id": "32992f12",
   "metadata": {},
   "outputs": [
    {
     "data": {
      "text/html": [
       "<div>\n",
       "<style scoped>\n",
       "    .dataframe tbody tr th:only-of-type {\n",
       "        vertical-align: middle;\n",
       "    }\n",
       "\n",
       "    .dataframe tbody tr th {\n",
       "        vertical-align: top;\n",
       "    }\n",
       "\n",
       "    .dataframe thead th {\n",
       "        text-align: right;\n",
       "    }\n",
       "</style>\n",
       "<table border=\"1\" class=\"dataframe\">\n",
       "  <thead>\n",
       "    <tr style=\"text-align: right;\">\n",
       "      <th></th>\n",
       "      <th>FLAG_LAST_APPL_PER_CONTRACT</th>\n",
       "      <th>NFLAG_LAST_APPL_IN_DAY</th>\n",
       "      <th>Cust_type</th>\n",
       "      <th>PREV_AMT_CREDIT</th>\n",
       "      <th>REGION_POPULATION_RELATIVE</th>\n",
       "      <th>AMT_CREDIT</th>\n",
       "      <th>CREDIT_DIF</th>\n",
       "      <th>TOTAL_DOCUMENTS</th>\n",
       "      <th>EXP_TERM</th>\n",
       "      <th>PREV_HOUR_APPR_PROCESS_START</th>\n",
       "      <th>...</th>\n",
       "      <th>CHANNEL_TYPE_Channel of corporate sales</th>\n",
       "      <th>CHANNEL_TYPE_Contact center</th>\n",
       "      <th>CHANNEL_TYPE_Country-wide</th>\n",
       "      <th>CHANNEL_TYPE_Credit and cash offices</th>\n",
       "      <th>CHANNEL_TYPE_Regional / Local</th>\n",
       "      <th>CHANNEL_TYPE_Stone</th>\n",
       "      <th>NAME_CLIENT_TYPE_Refreshed</th>\n",
       "      <th>NAME_CLIENT_TYPE_Repeater</th>\n",
       "      <th>cluster_id_seg2</th>\n",
       "      <th>cluster_id_seg3</th>\n",
       "    </tr>\n",
       "  </thead>\n",
       "  <tbody>\n",
       "    <tr>\n",
       "      <th>0</th>\n",
       "      <td>1</td>\n",
       "      <td>1</td>\n",
       "      <td>Approved</td>\n",
       "      <td>17145.0</td>\n",
       "      <td>0.018801</td>\n",
       "      <td>406597.5</td>\n",
       "      <td>-389452.5</td>\n",
       "      <td>1</td>\n",
       "      <td>0.69</td>\n",
       "      <td>15</td>\n",
       "      <td>...</td>\n",
       "      <td>0</td>\n",
       "      <td>0</td>\n",
       "      <td>1</td>\n",
       "      <td>0</td>\n",
       "      <td>0</td>\n",
       "      <td>0</td>\n",
       "      <td>0</td>\n",
       "      <td>1</td>\n",
       "      <td>1</td>\n",
       "      <td>0</td>\n",
       "    </tr>\n",
       "    <tr>\n",
       "      <th>1</th>\n",
       "      <td>1</td>\n",
       "      <td>1</td>\n",
       "      <td>Approved</td>\n",
       "      <td>679671.0</td>\n",
       "      <td>0.003541</td>\n",
       "      <td>1293502.5</td>\n",
       "      <td>-613831.5</td>\n",
       "      <td>1</td>\n",
       "      <td>17.02</td>\n",
       "      <td>11</td>\n",
       "      <td>...</td>\n",
       "      <td>0</td>\n",
       "      <td>1</td>\n",
       "      <td>0</td>\n",
       "      <td>0</td>\n",
       "      <td>0</td>\n",
       "      <td>0</td>\n",
       "      <td>0</td>\n",
       "      <td>1</td>\n",
       "      <td>0</td>\n",
       "      <td>0</td>\n",
       "    </tr>\n",
       "    <tr>\n",
       "      <th>2</th>\n",
       "      <td>1</td>\n",
       "      <td>1</td>\n",
       "      <td>Approved</td>\n",
       "      <td>136444.5</td>\n",
       "      <td>0.010032</td>\n",
       "      <td>135000.0</td>\n",
       "      <td>1444.5</td>\n",
       "      <td>0</td>\n",
       "      <td>16.67</td>\n",
       "      <td>11</td>\n",
       "      <td>...</td>\n",
       "      <td>0</td>\n",
       "      <td>0</td>\n",
       "      <td>0</td>\n",
       "      <td>1</td>\n",
       "      <td>0</td>\n",
       "      <td>0</td>\n",
       "      <td>0</td>\n",
       "      <td>1</td>\n",
       "      <td>1</td>\n",
       "      <td>0</td>\n",
       "    </tr>\n",
       "    <tr>\n",
       "      <th>3</th>\n",
       "      <td>1</td>\n",
       "      <td>1</td>\n",
       "      <td>Approved</td>\n",
       "      <td>470790.0</td>\n",
       "      <td>0.008019</td>\n",
       "      <td>312682.5</td>\n",
       "      <td>158107.5</td>\n",
       "      <td>1</td>\n",
       "      <td>15.16</td>\n",
       "      <td>7</td>\n",
       "      <td>...</td>\n",
       "      <td>0</td>\n",
       "      <td>0</td>\n",
       "      <td>0</td>\n",
       "      <td>1</td>\n",
       "      <td>0</td>\n",
       "      <td>0</td>\n",
       "      <td>0</td>\n",
       "      <td>1</td>\n",
       "      <td>1</td>\n",
       "      <td>0</td>\n",
       "    </tr>\n",
       "    <tr>\n",
       "      <th>4</th>\n",
       "      <td>1</td>\n",
       "      <td>1</td>\n",
       "      <td>Refused</td>\n",
       "      <td>404055.0</td>\n",
       "      <td>0.028663</td>\n",
       "      <td>513000.0</td>\n",
       "      <td>-108945.0</td>\n",
       "      <td>1</td>\n",
       "      <td>15.44</td>\n",
       "      <td>9</td>\n",
       "      <td>...</td>\n",
       "      <td>0</td>\n",
       "      <td>0</td>\n",
       "      <td>0</td>\n",
       "      <td>1</td>\n",
       "      <td>0</td>\n",
       "      <td>0</td>\n",
       "      <td>0</td>\n",
       "      <td>1</td>\n",
       "      <td>1</td>\n",
       "      <td>0</td>\n",
       "    </tr>\n",
       "    <tr>\n",
       "      <th>...</th>\n",
       "      <td>...</td>\n",
       "      <td>...</td>\n",
       "      <td>...</td>\n",
       "      <td>...</td>\n",
       "      <td>...</td>\n",
       "      <td>...</td>\n",
       "      <td>...</td>\n",
       "      <td>...</td>\n",
       "      <td>...</td>\n",
       "      <td>...</td>\n",
       "      <td>...</td>\n",
       "      <td>...</td>\n",
       "      <td>...</td>\n",
       "      <td>...</td>\n",
       "      <td>...</td>\n",
       "      <td>...</td>\n",
       "      <td>...</td>\n",
       "      <td>...</td>\n",
       "      <td>...</td>\n",
       "      <td>...</td>\n",
       "      <td>...</td>\n",
       "    </tr>\n",
       "    <tr>\n",
       "      <th>304910</th>\n",
       "      <td>1</td>\n",
       "      <td>1</td>\n",
       "      <td>Canceled</td>\n",
       "      <td>0.0</td>\n",
       "      <td>0.032561</td>\n",
       "      <td>254700.0</td>\n",
       "      <td>-254700.0</td>\n",
       "      <td>1</td>\n",
       "      <td>0.00</td>\n",
       "      <td>11</td>\n",
       "      <td>...</td>\n",
       "      <td>0</td>\n",
       "      <td>0</td>\n",
       "      <td>0</td>\n",
       "      <td>1</td>\n",
       "      <td>0</td>\n",
       "      <td>0</td>\n",
       "      <td>0</td>\n",
       "      <td>1</td>\n",
       "      <td>1</td>\n",
       "      <td>0</td>\n",
       "    </tr>\n",
       "    <tr>\n",
       "      <th>304911</th>\n",
       "      <td>1</td>\n",
       "      <td>1</td>\n",
       "      <td>Approved</td>\n",
       "      <td>167895.0</td>\n",
       "      <td>0.025164</td>\n",
       "      <td>269550.0</td>\n",
       "      <td>-101655.0</td>\n",
       "      <td>1</td>\n",
       "      <td>13.12</td>\n",
       "      <td>18</td>\n",
       "      <td>...</td>\n",
       "      <td>0</td>\n",
       "      <td>0</td>\n",
       "      <td>0</td>\n",
       "      <td>1</td>\n",
       "      <td>0</td>\n",
       "      <td>0</td>\n",
       "      <td>0</td>\n",
       "      <td>1</td>\n",
       "      <td>1</td>\n",
       "      <td>0</td>\n",
       "    </tr>\n",
       "    <tr>\n",
       "      <th>304912</th>\n",
       "      <td>1</td>\n",
       "      <td>1</td>\n",
       "      <td>Approved</td>\n",
       "      <td>491580.0</td>\n",
       "      <td>0.005002</td>\n",
       "      <td>677664.0</td>\n",
       "      <td>-186084.0</td>\n",
       "      <td>1</td>\n",
       "      <td>15.01</td>\n",
       "      <td>12</td>\n",
       "      <td>...</td>\n",
       "      <td>0</td>\n",
       "      <td>0</td>\n",
       "      <td>0</td>\n",
       "      <td>1</td>\n",
       "      <td>0</td>\n",
       "      <td>0</td>\n",
       "      <td>0</td>\n",
       "      <td>1</td>\n",
       "      <td>1</td>\n",
       "      <td>0</td>\n",
       "    </tr>\n",
       "    <tr>\n",
       "      <th>304913</th>\n",
       "      <td>1</td>\n",
       "      <td>1</td>\n",
       "      <td>Canceled</td>\n",
       "      <td>0.0</td>\n",
       "      <td>0.005313</td>\n",
       "      <td>370107.0</td>\n",
       "      <td>-370107.0</td>\n",
       "      <td>1</td>\n",
       "      <td>0.00</td>\n",
       "      <td>18</td>\n",
       "      <td>...</td>\n",
       "      <td>0</td>\n",
       "      <td>0</td>\n",
       "      <td>0</td>\n",
       "      <td>1</td>\n",
       "      <td>0</td>\n",
       "      <td>0</td>\n",
       "      <td>0</td>\n",
       "      <td>1</td>\n",
       "      <td>1</td>\n",
       "      <td>0</td>\n",
       "    </tr>\n",
       "    <tr>\n",
       "      <th>304914</th>\n",
       "      <td>1</td>\n",
       "      <td>1</td>\n",
       "      <td>Approved</td>\n",
       "      <td>533160.0</td>\n",
       "      <td>0.046220</td>\n",
       "      <td>675000.0</td>\n",
       "      <td>-141840.0</td>\n",
       "      <td>1</td>\n",
       "      <td>9.16</td>\n",
       "      <td>14</td>\n",
       "      <td>...</td>\n",
       "      <td>0</td>\n",
       "      <td>0</td>\n",
       "      <td>0</td>\n",
       "      <td>1</td>\n",
       "      <td>0</td>\n",
       "      <td>0</td>\n",
       "      <td>1</td>\n",
       "      <td>0</td>\n",
       "      <td>1</td>\n",
       "      <td>0</td>\n",
       "    </tr>\n",
       "  </tbody>\n",
       "</table>\n",
       "<p>304915 rows × 43 columns</p>\n",
       "</div>"
      ],
      "text/plain": [
       "        FLAG_LAST_APPL_PER_CONTRACT  NFLAG_LAST_APPL_IN_DAY Cust_type  \\\n",
       "0                                 1                       1  Approved   \n",
       "1                                 1                       1  Approved   \n",
       "2                                 1                       1  Approved   \n",
       "3                                 1                       1  Approved   \n",
       "4                                 1                       1   Refused   \n",
       "...                             ...                     ...       ...   \n",
       "304910                            1                       1  Canceled   \n",
       "304911                            1                       1  Approved   \n",
       "304912                            1                       1  Approved   \n",
       "304913                            1                       1  Canceled   \n",
       "304914                            1                       1  Approved   \n",
       "\n",
       "        PREV_AMT_CREDIT  REGION_POPULATION_RELATIVE  AMT_CREDIT  CREDIT_DIF  \\\n",
       "0               17145.0                    0.018801    406597.5   -389452.5   \n",
       "1              679671.0                    0.003541   1293502.5   -613831.5   \n",
       "2              136444.5                    0.010032    135000.0      1444.5   \n",
       "3              470790.0                    0.008019    312682.5    158107.5   \n",
       "4              404055.0                    0.028663    513000.0   -108945.0   \n",
       "...                 ...                         ...         ...         ...   \n",
       "304910              0.0                    0.032561    254700.0   -254700.0   \n",
       "304911         167895.0                    0.025164    269550.0   -101655.0   \n",
       "304912         491580.0                    0.005002    677664.0   -186084.0   \n",
       "304913              0.0                    0.005313    370107.0   -370107.0   \n",
       "304914         533160.0                    0.046220    675000.0   -141840.0   \n",
       "\n",
       "        TOTAL_DOCUMENTS  EXP_TERM  PREV_HOUR_APPR_PROCESS_START  ...  \\\n",
       "0                     1      0.69                            15  ...   \n",
       "1                     1     17.02                            11  ...   \n",
       "2                     0     16.67                            11  ...   \n",
       "3                     1     15.16                             7  ...   \n",
       "4                     1     15.44                             9  ...   \n",
       "...                 ...       ...                           ...  ...   \n",
       "304910                1      0.00                            11  ...   \n",
       "304911                1     13.12                            18  ...   \n",
       "304912                1     15.01                            12  ...   \n",
       "304913                1      0.00                            18  ...   \n",
       "304914                1      9.16                            14  ...   \n",
       "\n",
       "        CHANNEL_TYPE_Channel of corporate sales  CHANNEL_TYPE_Contact center  \\\n",
       "0                                             0                            0   \n",
       "1                                             0                            1   \n",
       "2                                             0                            0   \n",
       "3                                             0                            0   \n",
       "4                                             0                            0   \n",
       "...                                         ...                          ...   \n",
       "304910                                        0                            0   \n",
       "304911                                        0                            0   \n",
       "304912                                        0                            0   \n",
       "304913                                        0                            0   \n",
       "304914                                        0                            0   \n",
       "\n",
       "        CHANNEL_TYPE_Country-wide  CHANNEL_TYPE_Credit and cash offices  \\\n",
       "0                               1                                     0   \n",
       "1                               0                                     0   \n",
       "2                               0                                     1   \n",
       "3                               0                                     1   \n",
       "4                               0                                     1   \n",
       "...                           ...                                   ...   \n",
       "304910                          0                                     1   \n",
       "304911                          0                                     1   \n",
       "304912                          0                                     1   \n",
       "304913                          0                                     1   \n",
       "304914                          0                                     1   \n",
       "\n",
       "        CHANNEL_TYPE_Regional / Local  CHANNEL_TYPE_Stone  \\\n",
       "0                                   0                   0   \n",
       "1                                   0                   0   \n",
       "2                                   0                   0   \n",
       "3                                   0                   0   \n",
       "4                                   0                   0   \n",
       "...                               ...                 ...   \n",
       "304910                              0                   0   \n",
       "304911                              0                   0   \n",
       "304912                              0                   0   \n",
       "304913                              0                   0   \n",
       "304914                              0                   0   \n",
       "\n",
       "        NAME_CLIENT_TYPE_Refreshed  NAME_CLIENT_TYPE_Repeater  \\\n",
       "0                                0                          1   \n",
       "1                                0                          1   \n",
       "2                                0                          1   \n",
       "3                                0                          1   \n",
       "4                                0                          1   \n",
       "...                            ...                        ...   \n",
       "304910                           0                          1   \n",
       "304911                           0                          1   \n",
       "304912                           0                          1   \n",
       "304913                           0                          1   \n",
       "304914                           1                          0   \n",
       "\n",
       "        cluster_id_seg2  cluster_id_seg3  \n",
       "0                     1                0  \n",
       "1                     0                0  \n",
       "2                     1                0  \n",
       "3                     1                0  \n",
       "4                     1                0  \n",
       "...                 ...              ...  \n",
       "304910                1                0  \n",
       "304911                1                0  \n",
       "304912                1                0  \n",
       "304913                1                0  \n",
       "304914                1                0  \n",
       "\n",
       "[304915 rows x 43 columns]"
      ]
     },
     "execution_count": 744,
     "metadata": {},
     "output_type": "execute_result"
    }
   ],
   "source": [
    "df0_dummy"
   ]
  },
  {
   "cell_type": "markdown",
   "id": "c1a1752b",
   "metadata": {},
   "source": [
    "## Data Preparation"
   ]
  },
  {
   "cell_type": "code",
   "execution_count": 745,
   "id": "0b3cdba7",
   "metadata": {},
   "outputs": [],
   "source": [
    "y_c = df0_dummy.pop('Cust_type')"
   ]
  },
  {
   "cell_type": "code",
   "execution_count": 746,
   "id": "aaa739cd",
   "metadata": {},
   "outputs": [],
   "source": [
    "X_c = df0_dummy"
   ]
  },
  {
   "cell_type": "code",
   "execution_count": 747,
   "id": "ca45d1db",
   "metadata": {},
   "outputs": [
    {
     "data": {
      "text/html": [
       "<div>\n",
       "<style scoped>\n",
       "    .dataframe tbody tr th:only-of-type {\n",
       "        vertical-align: middle;\n",
       "    }\n",
       "\n",
       "    .dataframe tbody tr th {\n",
       "        vertical-align: top;\n",
       "    }\n",
       "\n",
       "    .dataframe thead th {\n",
       "        text-align: right;\n",
       "    }\n",
       "</style>\n",
       "<table border=\"1\" class=\"dataframe\">\n",
       "  <thead>\n",
       "    <tr style=\"text-align: right;\">\n",
       "      <th></th>\n",
       "      <th>FLAG_LAST_APPL_PER_CONTRACT</th>\n",
       "      <th>NFLAG_LAST_APPL_IN_DAY</th>\n",
       "      <th>PREV_AMT_CREDIT</th>\n",
       "      <th>REGION_POPULATION_RELATIVE</th>\n",
       "      <th>AMT_CREDIT</th>\n",
       "      <th>CREDIT_DIF</th>\n",
       "      <th>TOTAL_DOCUMENTS</th>\n",
       "      <th>EXP_TERM</th>\n",
       "      <th>PREV_HOUR_APPR_PROCESS_START</th>\n",
       "      <th>EXT_SOURCE_2</th>\n",
       "      <th>...</th>\n",
       "      <th>CHANNEL_TYPE_Channel of corporate sales</th>\n",
       "      <th>CHANNEL_TYPE_Contact center</th>\n",
       "      <th>CHANNEL_TYPE_Country-wide</th>\n",
       "      <th>CHANNEL_TYPE_Credit and cash offices</th>\n",
       "      <th>CHANNEL_TYPE_Regional / Local</th>\n",
       "      <th>CHANNEL_TYPE_Stone</th>\n",
       "      <th>NAME_CLIENT_TYPE_Refreshed</th>\n",
       "      <th>NAME_CLIENT_TYPE_Repeater</th>\n",
       "      <th>cluster_id_seg2</th>\n",
       "      <th>cluster_id_seg3</th>\n",
       "    </tr>\n",
       "  </thead>\n",
       "  <tbody>\n",
       "    <tr>\n",
       "      <th>0</th>\n",
       "      <td>1</td>\n",
       "      <td>1</td>\n",
       "      <td>17145.0</td>\n",
       "      <td>0.018801</td>\n",
       "      <td>406597.5</td>\n",
       "      <td>-389452.5</td>\n",
       "      <td>1</td>\n",
       "      <td>0.69</td>\n",
       "      <td>15</td>\n",
       "      <td>0.262949</td>\n",
       "      <td>...</td>\n",
       "      <td>0</td>\n",
       "      <td>0</td>\n",
       "      <td>1</td>\n",
       "      <td>0</td>\n",
       "      <td>0</td>\n",
       "      <td>0</td>\n",
       "      <td>0</td>\n",
       "      <td>1</td>\n",
       "      <td>1</td>\n",
       "      <td>0</td>\n",
       "    </tr>\n",
       "    <tr>\n",
       "      <th>1</th>\n",
       "      <td>1</td>\n",
       "      <td>1</td>\n",
       "      <td>679671.0</td>\n",
       "      <td>0.003541</td>\n",
       "      <td>1293502.5</td>\n",
       "      <td>-613831.5</td>\n",
       "      <td>1</td>\n",
       "      <td>17.02</td>\n",
       "      <td>11</td>\n",
       "      <td>0.622246</td>\n",
       "      <td>...</td>\n",
       "      <td>0</td>\n",
       "      <td>1</td>\n",
       "      <td>0</td>\n",
       "      <td>0</td>\n",
       "      <td>0</td>\n",
       "      <td>0</td>\n",
       "      <td>0</td>\n",
       "      <td>1</td>\n",
       "      <td>0</td>\n",
       "      <td>0</td>\n",
       "    </tr>\n",
       "    <tr>\n",
       "      <th>2</th>\n",
       "      <td>1</td>\n",
       "      <td>1</td>\n",
       "      <td>136444.5</td>\n",
       "      <td>0.010032</td>\n",
       "      <td>135000.0</td>\n",
       "      <td>1444.5</td>\n",
       "      <td>0</td>\n",
       "      <td>16.67</td>\n",
       "      <td>11</td>\n",
       "      <td>0.555912</td>\n",
       "      <td>...</td>\n",
       "      <td>0</td>\n",
       "      <td>0</td>\n",
       "      <td>0</td>\n",
       "      <td>1</td>\n",
       "      <td>0</td>\n",
       "      <td>0</td>\n",
       "      <td>0</td>\n",
       "      <td>1</td>\n",
       "      <td>1</td>\n",
       "      <td>0</td>\n",
       "    </tr>\n",
       "    <tr>\n",
       "      <th>3</th>\n",
       "      <td>1</td>\n",
       "      <td>1</td>\n",
       "      <td>470790.0</td>\n",
       "      <td>0.008019</td>\n",
       "      <td>312682.5</td>\n",
       "      <td>158107.5</td>\n",
       "      <td>1</td>\n",
       "      <td>15.16</td>\n",
       "      <td>7</td>\n",
       "      <td>0.650442</td>\n",
       "      <td>...</td>\n",
       "      <td>0</td>\n",
       "      <td>0</td>\n",
       "      <td>0</td>\n",
       "      <td>1</td>\n",
       "      <td>0</td>\n",
       "      <td>0</td>\n",
       "      <td>0</td>\n",
       "      <td>1</td>\n",
       "      <td>1</td>\n",
       "      <td>0</td>\n",
       "    </tr>\n",
       "    <tr>\n",
       "      <th>4</th>\n",
       "      <td>1</td>\n",
       "      <td>1</td>\n",
       "      <td>404055.0</td>\n",
       "      <td>0.028663</td>\n",
       "      <td>513000.0</td>\n",
       "      <td>-108945.0</td>\n",
       "      <td>1</td>\n",
       "      <td>15.44</td>\n",
       "      <td>9</td>\n",
       "      <td>0.322738</td>\n",
       "      <td>...</td>\n",
       "      <td>0</td>\n",
       "      <td>0</td>\n",
       "      <td>0</td>\n",
       "      <td>1</td>\n",
       "      <td>0</td>\n",
       "      <td>0</td>\n",
       "      <td>0</td>\n",
       "      <td>1</td>\n",
       "      <td>1</td>\n",
       "      <td>0</td>\n",
       "    </tr>\n",
       "    <tr>\n",
       "      <th>...</th>\n",
       "      <td>...</td>\n",
       "      <td>...</td>\n",
       "      <td>...</td>\n",
       "      <td>...</td>\n",
       "      <td>...</td>\n",
       "      <td>...</td>\n",
       "      <td>...</td>\n",
       "      <td>...</td>\n",
       "      <td>...</td>\n",
       "      <td>...</td>\n",
       "      <td>...</td>\n",
       "      <td>...</td>\n",
       "      <td>...</td>\n",
       "      <td>...</td>\n",
       "      <td>...</td>\n",
       "      <td>...</td>\n",
       "      <td>...</td>\n",
       "      <td>...</td>\n",
       "      <td>...</td>\n",
       "      <td>...</td>\n",
       "      <td>...</td>\n",
       "    </tr>\n",
       "    <tr>\n",
       "      <th>304910</th>\n",
       "      <td>1</td>\n",
       "      <td>1</td>\n",
       "      <td>0.0</td>\n",
       "      <td>0.032561</td>\n",
       "      <td>254700.0</td>\n",
       "      <td>-254700.0</td>\n",
       "      <td>1</td>\n",
       "      <td>0.00</td>\n",
       "      <td>11</td>\n",
       "      <td>0.681632</td>\n",
       "      <td>...</td>\n",
       "      <td>0</td>\n",
       "      <td>0</td>\n",
       "      <td>0</td>\n",
       "      <td>1</td>\n",
       "      <td>0</td>\n",
       "      <td>0</td>\n",
       "      <td>0</td>\n",
       "      <td>1</td>\n",
       "      <td>1</td>\n",
       "      <td>0</td>\n",
       "    </tr>\n",
       "    <tr>\n",
       "      <th>304911</th>\n",
       "      <td>1</td>\n",
       "      <td>1</td>\n",
       "      <td>167895.0</td>\n",
       "      <td>0.025164</td>\n",
       "      <td>269550.0</td>\n",
       "      <td>-101655.0</td>\n",
       "      <td>1</td>\n",
       "      <td>13.12</td>\n",
       "      <td>18</td>\n",
       "      <td>0.115992</td>\n",
       "      <td>...</td>\n",
       "      <td>0</td>\n",
       "      <td>0</td>\n",
       "      <td>0</td>\n",
       "      <td>1</td>\n",
       "      <td>0</td>\n",
       "      <td>0</td>\n",
       "      <td>0</td>\n",
       "      <td>1</td>\n",
       "      <td>1</td>\n",
       "      <td>0</td>\n",
       "    </tr>\n",
       "    <tr>\n",
       "      <th>304912</th>\n",
       "      <td>1</td>\n",
       "      <td>1</td>\n",
       "      <td>491580.0</td>\n",
       "      <td>0.005002</td>\n",
       "      <td>677664.0</td>\n",
       "      <td>-186084.0</td>\n",
       "      <td>1</td>\n",
       "      <td>15.01</td>\n",
       "      <td>12</td>\n",
       "      <td>0.535722</td>\n",
       "      <td>...</td>\n",
       "      <td>0</td>\n",
       "      <td>0</td>\n",
       "      <td>0</td>\n",
       "      <td>1</td>\n",
       "      <td>0</td>\n",
       "      <td>0</td>\n",
       "      <td>0</td>\n",
       "      <td>1</td>\n",
       "      <td>1</td>\n",
       "      <td>0</td>\n",
       "    </tr>\n",
       "    <tr>\n",
       "      <th>304913</th>\n",
       "      <td>1</td>\n",
       "      <td>1</td>\n",
       "      <td>0.0</td>\n",
       "      <td>0.005313</td>\n",
       "      <td>370107.0</td>\n",
       "      <td>-370107.0</td>\n",
       "      <td>1</td>\n",
       "      <td>0.00</td>\n",
       "      <td>18</td>\n",
       "      <td>0.514163</td>\n",
       "      <td>...</td>\n",
       "      <td>0</td>\n",
       "      <td>0</td>\n",
       "      <td>0</td>\n",
       "      <td>1</td>\n",
       "      <td>0</td>\n",
       "      <td>0</td>\n",
       "      <td>0</td>\n",
       "      <td>1</td>\n",
       "      <td>1</td>\n",
       "      <td>0</td>\n",
       "    </tr>\n",
       "    <tr>\n",
       "      <th>304914</th>\n",
       "      <td>1</td>\n",
       "      <td>1</td>\n",
       "      <td>533160.0</td>\n",
       "      <td>0.046220</td>\n",
       "      <td>675000.0</td>\n",
       "      <td>-141840.0</td>\n",
       "      <td>1</td>\n",
       "      <td>9.16</td>\n",
       "      <td>14</td>\n",
       "      <td>0.708569</td>\n",
       "      <td>...</td>\n",
       "      <td>0</td>\n",
       "      <td>0</td>\n",
       "      <td>0</td>\n",
       "      <td>1</td>\n",
       "      <td>0</td>\n",
       "      <td>0</td>\n",
       "      <td>1</td>\n",
       "      <td>0</td>\n",
       "      <td>1</td>\n",
       "      <td>0</td>\n",
       "    </tr>\n",
       "  </tbody>\n",
       "</table>\n",
       "<p>304915 rows × 42 columns</p>\n",
       "</div>"
      ],
      "text/plain": [
       "        FLAG_LAST_APPL_PER_CONTRACT  NFLAG_LAST_APPL_IN_DAY  PREV_AMT_CREDIT  \\\n",
       "0                                 1                       1          17145.0   \n",
       "1                                 1                       1         679671.0   \n",
       "2                                 1                       1         136444.5   \n",
       "3                                 1                       1         470790.0   \n",
       "4                                 1                       1         404055.0   \n",
       "...                             ...                     ...              ...   \n",
       "304910                            1                       1              0.0   \n",
       "304911                            1                       1         167895.0   \n",
       "304912                            1                       1         491580.0   \n",
       "304913                            1                       1              0.0   \n",
       "304914                            1                       1         533160.0   \n",
       "\n",
       "        REGION_POPULATION_RELATIVE  AMT_CREDIT  CREDIT_DIF  TOTAL_DOCUMENTS  \\\n",
       "0                         0.018801    406597.5   -389452.5                1   \n",
       "1                         0.003541   1293502.5   -613831.5                1   \n",
       "2                         0.010032    135000.0      1444.5                0   \n",
       "3                         0.008019    312682.5    158107.5                1   \n",
       "4                         0.028663    513000.0   -108945.0                1   \n",
       "...                            ...         ...         ...              ...   \n",
       "304910                    0.032561    254700.0   -254700.0                1   \n",
       "304911                    0.025164    269550.0   -101655.0                1   \n",
       "304912                    0.005002    677664.0   -186084.0                1   \n",
       "304913                    0.005313    370107.0   -370107.0                1   \n",
       "304914                    0.046220    675000.0   -141840.0                1   \n",
       "\n",
       "        EXP_TERM  PREV_HOUR_APPR_PROCESS_START  EXT_SOURCE_2  ...  \\\n",
       "0           0.69                            15      0.262949  ...   \n",
       "1          17.02                            11      0.622246  ...   \n",
       "2          16.67                            11      0.555912  ...   \n",
       "3          15.16                             7      0.650442  ...   \n",
       "4          15.44                             9      0.322738  ...   \n",
       "...          ...                           ...           ...  ...   \n",
       "304910      0.00                            11      0.681632  ...   \n",
       "304911     13.12                            18      0.115992  ...   \n",
       "304912     15.01                            12      0.535722  ...   \n",
       "304913      0.00                            18      0.514163  ...   \n",
       "304914      9.16                            14      0.708569  ...   \n",
       "\n",
       "        CHANNEL_TYPE_Channel of corporate sales  CHANNEL_TYPE_Contact center  \\\n",
       "0                                             0                            0   \n",
       "1                                             0                            1   \n",
       "2                                             0                            0   \n",
       "3                                             0                            0   \n",
       "4                                             0                            0   \n",
       "...                                         ...                          ...   \n",
       "304910                                        0                            0   \n",
       "304911                                        0                            0   \n",
       "304912                                        0                            0   \n",
       "304913                                        0                            0   \n",
       "304914                                        0                            0   \n",
       "\n",
       "        CHANNEL_TYPE_Country-wide  CHANNEL_TYPE_Credit and cash offices  \\\n",
       "0                               1                                     0   \n",
       "1                               0                                     0   \n",
       "2                               0                                     1   \n",
       "3                               0                                     1   \n",
       "4                               0                                     1   \n",
       "...                           ...                                   ...   \n",
       "304910                          0                                     1   \n",
       "304911                          0                                     1   \n",
       "304912                          0                                     1   \n",
       "304913                          0                                     1   \n",
       "304914                          0                                     1   \n",
       "\n",
       "        CHANNEL_TYPE_Regional / Local  CHANNEL_TYPE_Stone  \\\n",
       "0                                   0                   0   \n",
       "1                                   0                   0   \n",
       "2                                   0                   0   \n",
       "3                                   0                   0   \n",
       "4                                   0                   0   \n",
       "...                               ...                 ...   \n",
       "304910                              0                   0   \n",
       "304911                              0                   0   \n",
       "304912                              0                   0   \n",
       "304913                              0                   0   \n",
       "304914                              0                   0   \n",
       "\n",
       "        NAME_CLIENT_TYPE_Refreshed  NAME_CLIENT_TYPE_Repeater  \\\n",
       "0                                0                          1   \n",
       "1                                0                          1   \n",
       "2                                0                          1   \n",
       "3                                0                          1   \n",
       "4                                0                          1   \n",
       "...                            ...                        ...   \n",
       "304910                           0                          1   \n",
       "304911                           0                          1   \n",
       "304912                           0                          1   \n",
       "304913                           0                          1   \n",
       "304914                           1                          0   \n",
       "\n",
       "        cluster_id_seg2  cluster_id_seg3  \n",
       "0                     1                0  \n",
       "1                     0                0  \n",
       "2                     1                0  \n",
       "3                     1                0  \n",
       "4                     1                0  \n",
       "...                 ...              ...  \n",
       "304910                1                0  \n",
       "304911                1                0  \n",
       "304912                1                0  \n",
       "304913                1                0  \n",
       "304914                1                0  \n",
       "\n",
       "[304915 rows x 42 columns]"
      ]
     },
     "execution_count": 747,
     "metadata": {},
     "output_type": "execute_result"
    }
   ],
   "source": [
    "X_c"
   ]
  },
  {
   "cell_type": "code",
   "execution_count": 748,
   "id": "5264f649",
   "metadata": {},
   "outputs": [],
   "source": [
    "from sklearn.model_selection import train_test_split\n",
    "\n",
    "X_train_c, X_test_c, y_train_c, y_test_c = train_test_split(X_c,y_c, test_size = 0.3, random_state = 10)\n",
    "\n",
    "from sklearn.preprocessing import StandardScaler\n",
    "\n",
    "scaler = StandardScaler()\n",
    "X_train_scaled_c = scaler.fit_transform(X_train_c)\n",
    "X_test_scaled_c = scaler.transform(X_test_c)"
   ]
  },
  {
   "cell_type": "markdown",
   "id": "3e0c8f05",
   "metadata": {},
   "source": [
    "## Model Building"
   ]
  },
  {
   "cell_type": "code",
   "execution_count": 749,
   "id": "4b028c32",
   "metadata": {},
   "outputs": [],
   "source": [
    "from sklearn.linear_model import LogisticRegression \n",
    "from sklearn.multiclass import OneVsRestClassifier\n",
    "from sklearn.svm import SVC\n",
    "from sklearn.metrics import accuracy_score, classification_report"
   ]
  },
  {
   "cell_type": "code",
   "execution_count": 750,
   "id": "9175ba04",
   "metadata": {},
   "outputs": [
    {
     "data": {
      "text/plain": [
       "OneVsRestClassifier(estimator=LogisticRegression())"
      ]
     },
     "execution_count": 750,
     "metadata": {},
     "output_type": "execute_result"
    }
   ],
   "source": [
    "\n",
    "\n",
    "LR = LogisticRegression()\n",
    "oneVsrest = OneVsRestClassifier(LR) \n",
    "\n",
    "# I will use to onevsrest classifier with LogisticRegression\n",
    "\n",
    "\n",
    "oneVsrest.fit(X_train_scaled_c, y_train_c)"
   ]
  },
  {
   "cell_type": "code",
   "execution_count": 751,
   "id": "4f61af0d",
   "metadata": {},
   "outputs": [
    {
     "name": "stdout",
     "output_type": "stream",
     "text": [
      "81.74615817091454\n",
      "              precision    recall  f1-score   support\n",
      "\n",
      "    Approved       0.82      0.97      0.89    134378\n",
      "    Canceled       0.85      0.96      0.90     38878\n",
      "     Refused       0.68      0.19      0.30     36674\n",
      "Unused offer       0.00      0.00      0.00      3510\n",
      "\n",
      "    accuracy                           0.82    213440\n",
      "   macro avg       0.59      0.53      0.52    213440\n",
      "weighted avg       0.79      0.82      0.77    213440\n",
      "\n"
     ]
    }
   ],
   "source": [
    "prediction_ovsr_train = oneVsrest.predict(X_train_scaled_c)\n",
    "\n",
    "\n",
    "print(accuracy_score(y_train_c, prediction_ovsr_train)*100)\n",
    "\n",
    "\n",
    "print(classification_report(y_train_c, prediction_ovsr_train))"
   ]
  },
  {
   "cell_type": "markdown",
   "id": "2b657af7",
   "metadata": {},
   "source": [
    "## Model Prediction"
   ]
  },
  {
   "cell_type": "code",
   "execution_count": 752,
   "id": "7681a5f0",
   "metadata": {},
   "outputs": [
    {
     "name": "stdout",
     "output_type": "stream",
     "text": [
      "81.82672861437551\n",
      "              precision    recall  f1-score   support\n",
      "\n",
      "    Approved       0.82      0.97      0.89     57562\n",
      "    Canceled       0.85      0.96      0.91     16763\n",
      "     Refused       0.68      0.19      0.30     15672\n",
      "Unused offer       0.00      0.00      0.00      1478\n",
      "\n",
      "    accuracy                           0.82     91475\n",
      "   macro avg       0.59      0.53      0.52     91475\n",
      "weighted avg       0.79      0.82      0.77     91475\n",
      "\n"
     ]
    }
   ],
   "source": [
    "\n",
    "prediction_ovsr = oneVsrest.predict(X_test_scaled_c)\n",
    "\n",
    "# Evaluating the model\n",
    "\n",
    "print(accuracy_score(y_test_c, prediction_ovsr)*100)\n",
    "print(classification_report(y_test_c, prediction_ovsr))"
   ]
  },
  {
   "cell_type": "code",
   "execution_count": 753,
   "id": "c8f7dd94",
   "metadata": {},
   "outputs": [
    {
     "data": {
      "text/html": [
       "<div>\n",
       "<style scoped>\n",
       "    .dataframe tbody tr th:only-of-type {\n",
       "        vertical-align: middle;\n",
       "    }\n",
       "\n",
       "    .dataframe tbody tr th {\n",
       "        vertical-align: top;\n",
       "    }\n",
       "\n",
       "    .dataframe thead th {\n",
       "        text-align: right;\n",
       "    }\n",
       "</style>\n",
       "<table border=\"1\" class=\"dataframe\">\n",
       "  <thead>\n",
       "    <tr style=\"text-align: right;\">\n",
       "      <th></th>\n",
       "      <th>FLAG_LAST_APPL_PER_CONTRACT</th>\n",
       "      <th>NFLAG_LAST_APPL_IN_DAY</th>\n",
       "      <th>PREV_AMT_CREDIT</th>\n",
       "      <th>REGION_POPULATION_RELATIVE</th>\n",
       "      <th>AMT_CREDIT</th>\n",
       "      <th>CREDIT_DIF</th>\n",
       "      <th>TOTAL_DOCUMENTS</th>\n",
       "      <th>EXP_TERM</th>\n",
       "      <th>PREV_HOUR_APPR_PROCESS_START</th>\n",
       "      <th>EXT_SOURCE_2</th>\n",
       "      <th>...</th>\n",
       "      <th>cluster_id_seg2</th>\n",
       "      <th>cluster_id_seg3</th>\n",
       "      <th>Scaled_features</th>\n",
       "      <th>Actual</th>\n",
       "      <th>prediction_oneVsrest</th>\n",
       "      <th>prob_pred</th>\n",
       "      <th>prob_pred_Approved</th>\n",
       "      <th>prob_pred_Canceled</th>\n",
       "      <th>prob_pred_Refused</th>\n",
       "      <th>prob_pred_Unused_offer</th>\n",
       "    </tr>\n",
       "  </thead>\n",
       "  <tbody>\n",
       "    <tr>\n",
       "      <th>187458</th>\n",
       "      <td>1</td>\n",
       "      <td>1</td>\n",
       "      <td>765000.0</td>\n",
       "      <td>0.011703</td>\n",
       "      <td>1467612.0</td>\n",
       "      <td>-702612.0</td>\n",
       "      <td>2</td>\n",
       "      <td>13.29</td>\n",
       "      <td>11</td>\n",
       "      <td>0.676519</td>\n",
       "      <td>...</td>\n",
       "      <td>0</td>\n",
       "      <td>0</td>\n",
       "      <td>[0.07181018406860838, 0.059023693130060964, 1....</td>\n",
       "      <td>Approved</td>\n",
       "      <td>Approved</td>\n",
       "      <td>[0.7068825250146828, 0.0006001940831547827, 0....</td>\n",
       "      <td>0.706883</td>\n",
       "      <td>0.000600</td>\n",
       "      <td>0.292443</td>\n",
       "      <td>7.416148e-05</td>\n",
       "    </tr>\n",
       "    <tr>\n",
       "      <th>122452</th>\n",
       "      <td>1</td>\n",
       "      <td>1</td>\n",
       "      <td>46642.5</td>\n",
       "      <td>0.018209</td>\n",
       "      <td>450000.0</td>\n",
       "      <td>-403357.5</td>\n",
       "      <td>1</td>\n",
       "      <td>1.23</td>\n",
       "      <td>15</td>\n",
       "      <td>0.442629</td>\n",
       "      <td>...</td>\n",
       "      <td>1</td>\n",
       "      <td>0</td>\n",
       "      <td>[0.07181018406860838, 0.059023693130060964, -0...</td>\n",
       "      <td>Approved</td>\n",
       "      <td>Approved</td>\n",
       "      <td>[0.673929431592298, 0.0024958026292531306, 0.1...</td>\n",
       "      <td>0.673929</td>\n",
       "      <td>0.002496</td>\n",
       "      <td>0.164894</td>\n",
       "      <td>1.586806e-01</td>\n",
       "    </tr>\n",
       "    <tr>\n",
       "      <th>233767</th>\n",
       "      <td>1</td>\n",
       "      <td>1</td>\n",
       "      <td>215568.0</td>\n",
       "      <td>0.032561</td>\n",
       "      <td>450000.0</td>\n",
       "      <td>-234432.0</td>\n",
       "      <td>1</td>\n",
       "      <td>5.06</td>\n",
       "      <td>9</td>\n",
       "      <td>0.741203</td>\n",
       "      <td>...</td>\n",
       "      <td>1</td>\n",
       "      <td>0</td>\n",
       "      <td>[0.07181018406860838, 0.059023693130060964, 0....</td>\n",
       "      <td>Approved</td>\n",
       "      <td>Approved</td>\n",
       "      <td>[0.7586789323391108, 0.0022796830102145833, 0....</td>\n",
       "      <td>0.758679</td>\n",
       "      <td>0.002280</td>\n",
       "      <td>0.239040</td>\n",
       "      <td>1.823844e-06</td>\n",
       "    </tr>\n",
       "    <tr>\n",
       "      <th>175853</th>\n",
       "      <td>1</td>\n",
       "      <td>1</td>\n",
       "      <td>540000.0</td>\n",
       "      <td>0.019101</td>\n",
       "      <td>271066.5</td>\n",
       "      <td>268933.5</td>\n",
       "      <td>1</td>\n",
       "      <td>44.74</td>\n",
       "      <td>19</td>\n",
       "      <td>0.479207</td>\n",
       "      <td>...</td>\n",
       "      <td>0</td>\n",
       "      <td>1</td>\n",
       "      <td>[0.07181018406860838, 0.059023693130060964, 1....</td>\n",
       "      <td>Approved</td>\n",
       "      <td>Approved</td>\n",
       "      <td>[0.7652157491427446, 0.002199216778263944, 0.2...</td>\n",
       "      <td>0.765216</td>\n",
       "      <td>0.002199</td>\n",
       "      <td>0.232584</td>\n",
       "      <td>5.556572e-07</td>\n",
       "    </tr>\n",
       "    <tr>\n",
       "      <th>233447</th>\n",
       "      <td>1</td>\n",
       "      <td>1</td>\n",
       "      <td>19921.5</td>\n",
       "      <td>0.008019</td>\n",
       "      <td>135000.0</td>\n",
       "      <td>-115078.5</td>\n",
       "      <td>2</td>\n",
       "      <td>2.79</td>\n",
       "      <td>9</td>\n",
       "      <td>0.371074</td>\n",
       "      <td>...</td>\n",
       "      <td>1</td>\n",
       "      <td>0</td>\n",
       "      <td>[0.07181018406860838, 0.059023693130060964, -0...</td>\n",
       "      <td>Approved</td>\n",
       "      <td>Approved</td>\n",
       "      <td>[0.7227226739284721, 0.0027386246999066602, 0....</td>\n",
       "      <td>0.722723</td>\n",
       "      <td>0.002739</td>\n",
       "      <td>0.159853</td>\n",
       "      <td>1.146853e-01</td>\n",
       "    </tr>\n",
       "  </tbody>\n",
       "</table>\n",
       "<p>5 rows × 50 columns</p>\n",
       "</div>"
      ],
      "text/plain": [
       "        FLAG_LAST_APPL_PER_CONTRACT  NFLAG_LAST_APPL_IN_DAY  PREV_AMT_CREDIT  \\\n",
       "187458                            1                       1         765000.0   \n",
       "122452                            1                       1          46642.5   \n",
       "233767                            1                       1         215568.0   \n",
       "175853                            1                       1         540000.0   \n",
       "233447                            1                       1          19921.5   \n",
       "\n",
       "        REGION_POPULATION_RELATIVE  AMT_CREDIT  CREDIT_DIF  TOTAL_DOCUMENTS  \\\n",
       "187458                    0.011703   1467612.0   -702612.0                2   \n",
       "122452                    0.018209    450000.0   -403357.5                1   \n",
       "233767                    0.032561    450000.0   -234432.0                1   \n",
       "175853                    0.019101    271066.5    268933.5                1   \n",
       "233447                    0.008019    135000.0   -115078.5                2   \n",
       "\n",
       "        EXP_TERM  PREV_HOUR_APPR_PROCESS_START  EXT_SOURCE_2  ...  \\\n",
       "187458     13.29                            11      0.676519  ...   \n",
       "122452      1.23                            15      0.442629  ...   \n",
       "233767      5.06                             9      0.741203  ...   \n",
       "175853     44.74                            19      0.479207  ...   \n",
       "233447      2.79                             9      0.371074  ...   \n",
       "\n",
       "        cluster_id_seg2  cluster_id_seg3  \\\n",
       "187458                0                0   \n",
       "122452                1                0   \n",
       "233767                1                0   \n",
       "175853                0                1   \n",
       "233447                1                0   \n",
       "\n",
       "                                          Scaled_features    Actual  \\\n",
       "187458  [0.07181018406860838, 0.059023693130060964, 1....  Approved   \n",
       "122452  [0.07181018406860838, 0.059023693130060964, -0...  Approved   \n",
       "233767  [0.07181018406860838, 0.059023693130060964, 0....  Approved   \n",
       "175853  [0.07181018406860838, 0.059023693130060964, 1....  Approved   \n",
       "233447  [0.07181018406860838, 0.059023693130060964, -0...  Approved   \n",
       "\n",
       "        prediction_oneVsrest  \\\n",
       "187458              Approved   \n",
       "122452              Approved   \n",
       "233767              Approved   \n",
       "175853              Approved   \n",
       "233447              Approved   \n",
       "\n",
       "                                                prob_pred  prob_pred_Approved  \\\n",
       "187458  [0.7068825250146828, 0.0006001940831547827, 0....            0.706883   \n",
       "122452  [0.673929431592298, 0.0024958026292531306, 0.1...            0.673929   \n",
       "233767  [0.7586789323391108, 0.0022796830102145833, 0....            0.758679   \n",
       "175853  [0.7652157491427446, 0.002199216778263944, 0.2...            0.765216   \n",
       "233447  [0.7227226739284721, 0.0027386246999066602, 0....            0.722723   \n",
       "\n",
       "        prob_pred_Canceled  prob_pred_Refused  prob_pred_Unused_offer  \n",
       "187458            0.000600           0.292443            7.416148e-05  \n",
       "122452            0.002496           0.164894            1.586806e-01  \n",
       "233767            0.002280           0.239040            1.823844e-06  \n",
       "175853            0.002199           0.232584            5.556572e-07  \n",
       "233447            0.002739           0.159853            1.146853e-01  \n",
       "\n",
       "[5 rows x 50 columns]"
      ]
     },
     "execution_count": 753,
     "metadata": {},
     "output_type": "execute_result"
    }
   ],
   "source": [
    "X_test_c['Scaled_features'] = X_test_scaled_c.tolist()\n",
    "\n",
    "X_test_c['Actual'] = y_test_c\n",
    "\n",
    "#target prediction\n",
    "\n",
    "X_test_c['prediction_oneVsrest'] = prediction_ovsr\n",
    "# prediction\n",
    "\n",
    "X_test_c['prob_pred'] = oneVsrest.predict_proba(X_test_scaled_c).tolist()\n",
    "\n",
    "#OnevsRest  probabilities\n",
    "\n",
    "X_test_c['prob_pred_Approved'] = oneVsrest.predict_proba(X_test_scaled_c)[:,0].tolist()\n",
    "X_test_c['prob_pred_Canceled'] = oneVsrest.predict_proba(X_test_scaled_c)[:,1].tolist()\n",
    "X_test_c['prob_pred_Refused'] = oneVsrest.predict_proba(X_test_scaled_c)[:,2].tolist()\n",
    "X_test_c['prob_pred_Unused_offer'] = oneVsrest.predict_proba(X_test_scaled_c)[:,3].tolist()\n",
    "\n",
    "\n",
    "\n",
    "X_test_c.head()"
   ]
  },
  {
   "cell_type": "code",
   "execution_count": 754,
   "id": "598c2b7d",
   "metadata": {},
   "outputs": [
    {
     "name": "stdout",
     "output_type": "stream",
     "text": [
      "['Approved' 'Canceled' 'Refused' 'Unused offer']\n",
      "(4, 42)\n",
      "[[-0.39950161]\n",
      " [-4.81561829]\n",
      " [-1.80801418]\n",
      " [-8.22949483]]\n",
      "[[ 9.89473852e-01 -1.41634326e-01 -1.92821990e-01 -3.50105429e-03\n",
      "  -6.17739365e-02 -6.93894406e-02  3.85254918e-03 -2.78824369e-02\n",
      "  -2.31221099e-02  2.33525571e-03  9.44179871e-03  1.75151798e-04\n",
      "   7.39082674e-03 -1.75408235e-02 -7.04739959e-03  5.47984914e-01\n",
      "  -3.11088137e+00  2.48169378e-01  6.85750456e-02  1.29011871e-01\n",
      "   4.62940592e-01  5.92285330e-01  7.60508185e-01  5.56665268e-01\n",
      "   3.25762117e-01  3.98726689e-01  1.58287101e-01  2.91012376e-01\n",
      "   2.44477727e-01  1.73957445e-01  8.29312030e-02  2.56917404e-02\n",
      "   3.62221032e-02 -2.70595423e-02  5.48807046e-01  8.70995447e-02\n",
      "   4.00415794e-01  5.29628124e-01 -3.33027616e-01 -8.12100330e-01\n",
      "  -1.00452753e-03  1.40710850e-02]\n",
      " [ 4.87198881e-01  2.37134589e-01 -6.00726002e-01  6.72042671e-03\n",
      "  -1.61919190e-01 -2.40290968e-01 -6.87423492e-03  4.36399522e-02\n",
      "  -3.19981177e-02  3.00191088e-02 -1.03676417e-02  6.90913649e-05\n",
      "   4.77740726e-03 -1.38368957e-01 -1.28137636e-03 -1.30451903e+00\n",
      "   6.63969717e-01 -1.13577193e+00 -3.80278573e-01 -5.13745875e-01\n",
      "  -8.61089978e-01 -8.54565301e-01 -1.13574379e+00 -1.11458729e+00\n",
      "  -9.82331662e-01 -5.10452128e-01 -4.96679905e-01 -8.88694059e-01\n",
      "  -8.19521581e-01  1.46168035e-02 -2.63165664e-01  3.00462339e-02\n",
      "  -4.97339648e-02  5.79091779e-01 -8.37225000e-01  9.54986931e-01\n",
      "  -7.49221732e-01 -1.42544183e+00  3.08909167e-01  3.78668942e-01\n",
      "  -1.80347064e-03  4.96910893e-01]\n",
      " [-9.25353604e-01  1.54035793e-01  2.93948955e-01  9.57920541e-04\n",
      "   8.76765081e-02  1.10910422e-01 -1.83824341e-03  2.21834180e-02\n",
      "   2.77580388e-02 -4.92067669e-03 -3.64247916e-03 -3.12014006e-03\n",
      "  -4.57185113e-03  2.92722424e-02  6.97430594e-03 -1.16115488e-01\n",
      "  -3.75989647e-01  9.47516776e-02  1.67115067e-01  1.13808742e-01\n",
      "  -1.06168697e-01 -1.07450765e-01 -2.29638526e-01 -2.55779538e-01\n",
      "  -1.07605000e-01 -2.28026515e-01 -8.40351816e-02 -2.03659852e-01\n",
      "  -1.59095088e-01 -1.03549252e-01 -4.18499637e-02 -2.41559478e-02\n",
      "  -3.19737109e-02 -1.45292465e-01 -2.84742369e-01 -3.55264441e-01\n",
      "  -1.97717250e-01 -2.22493024e-01  2.43766717e-01  7.24562931e-01\n",
      "   7.45224311e-03 -7.36431372e-02]\n",
      " [ 1.83639647e-01  1.40956937e-02  1.21762724e+00 -3.03931374e-03\n",
      "   3.51563629e-01  4.68600874e-01 -9.11232815e-03 -4.12891082e-01\n",
      "   1.27801137e-01 -2.08638302e-02 -6.80146271e-03  2.90478549e-02\n",
      "  -3.35628742e-02  2.28050747e-01  7.17440909e-03 -7.58096858e-01\n",
      "   1.16519186e+00 -5.86144218e-01 -1.48664507e+00 -5.39678751e-01\n",
      "  -6.09293078e-01 -1.67970188e+00 -1.03993701e+00  1.76415115e+00\n",
      "  -7.80020349e-01  9.93710293e-01 -2.88410347e-01  2.33941466e+00\n",
      "   6.10382377e-01  3.25077555e-01 -1.45341829e-01 -2.47291679e-01\n",
      "  -1.74212672e-01 -6.08806227e-01  6.78931966e-01  4.52649241e-01\n",
      "   1.08132261e-01 -1.24623327e-01  5.08342270e-01  7.71123282e-01\n",
      "  -2.19270308e-02 -3.26632298e-01]]\n"
     ]
    }
   ],
   "source": [
    "# Classes for which individual models are created\n",
    "print(oneVsrest.classes_)\n",
    "#Coefficient matrix for all the models created\n",
    "\n",
    "print(oneVsrest.coef_.shape)\n",
    "#Intercept values for all the models created\n",
    "print(oneVsrest.intercept_)\n",
    "\n",
    "#Coefficient values for all the models created\n",
    "coeff_array = oneVsrest.coef_\n",
    "print(oneVsrest.coef_)"
   ]
  },
  {
   "cell_type": "markdown",
   "id": "0c53e17f",
   "metadata": {},
   "source": [
    "# Regression Problem\n",
    "- What is the loan amt. the Bank should offer a customer?"
   ]
  },
  {
   "cell_type": "code",
   "execution_count": 755,
   "id": "2d7e5d4e",
   "metadata": {},
   "outputs": [
    {
     "data": {
      "text/html": [
       "<div>\n",
       "<style scoped>\n",
       "    .dataframe tbody tr th:only-of-type {\n",
       "        vertical-align: middle;\n",
       "    }\n",
       "\n",
       "    .dataframe tbody tr th {\n",
       "        vertical-align: top;\n",
       "    }\n",
       "\n",
       "    .dataframe thead th {\n",
       "        text-align: right;\n",
       "    }\n",
       "</style>\n",
       "<table border=\"1\" class=\"dataframe\">\n",
       "  <thead>\n",
       "    <tr style=\"text-align: right;\">\n",
       "      <th></th>\n",
       "      <th>Unnamed: 0</th>\n",
       "      <th>SK_ID_CURR</th>\n",
       "      <th>SK_ID_PREV</th>\n",
       "      <th>PREV_NAME_CONTRACT_TYPE</th>\n",
       "      <th>AMT_APPLICATION</th>\n",
       "      <th>PREV_AMT_CREDIT</th>\n",
       "      <th>PREV_WEEKDAY_APPR_PROCESS_START</th>\n",
       "      <th>PREV_HOUR_APPR_PROCESS_START</th>\n",
       "      <th>FLAG_LAST_APPL_PER_CONTRACT</th>\n",
       "      <th>NFLAG_LAST_APPL_IN_DAY</th>\n",
       "      <th>...</th>\n",
       "      <th>EXP_TERM</th>\n",
       "      <th>CREDIT_DIF</th>\n",
       "      <th>PERCENT_OF_VALUE</th>\n",
       "      <th>INCOME_F_ADJUSTED</th>\n",
       "      <th>INCOME_ADJUSTED</th>\n",
       "      <th>YEARS_EMPLOYED</th>\n",
       "      <th>AGE_GRP</th>\n",
       "      <th>SK_ID_CURR.1</th>\n",
       "      <th>cluster_id</th>\n",
       "      <th>Cust_type</th>\n",
       "    </tr>\n",
       "  </thead>\n",
       "  <tbody>\n",
       "    <tr>\n",
       "      <th>0</th>\n",
       "      <td>0</td>\n",
       "      <td>100002</td>\n",
       "      <td>2030495</td>\n",
       "      <td>Consumer loans</td>\n",
       "      <td>17145.0</td>\n",
       "      <td>17145.0</td>\n",
       "      <td>6</td>\n",
       "      <td>15</td>\n",
       "      <td>1</td>\n",
       "      <td>1</td>\n",
       "      <td>...</td>\n",
       "      <td>0.69</td>\n",
       "      <td>-389452.5</td>\n",
       "      <td>4.88</td>\n",
       "      <td>101250.0</td>\n",
       "      <td>202500.0</td>\n",
       "      <td>2.0</td>\n",
       "      <td>2</td>\n",
       "      <td>100002</td>\n",
       "      <td>seg2</td>\n",
       "      <td>Approved</td>\n",
       "    </tr>\n",
       "    <tr>\n",
       "      <th>1</th>\n",
       "      <td>1</td>\n",
       "      <td>100003</td>\n",
       "      <td>2802425</td>\n",
       "      <td>Cash loans</td>\n",
       "      <td>607500.0</td>\n",
       "      <td>679671.0</td>\n",
       "      <td>4</td>\n",
       "      <td>11</td>\n",
       "      <td>1</td>\n",
       "      <td>1</td>\n",
       "      <td>...</td>\n",
       "      <td>17.02</td>\n",
       "      <td>-613831.5</td>\n",
       "      <td>53.78</td>\n",
       "      <td>90000.0</td>\n",
       "      <td>270000.0</td>\n",
       "      <td>3.0</td>\n",
       "      <td>4</td>\n",
       "      <td>100003</td>\n",
       "      <td>seg1</td>\n",
       "      <td>Approved</td>\n",
       "    </tr>\n",
       "    <tr>\n",
       "      <th>2</th>\n",
       "      <td>2</td>\n",
       "      <td>100004</td>\n",
       "      <td>2523466</td>\n",
       "      <td>Cash loans</td>\n",
       "      <td>112500.0</td>\n",
       "      <td>136444.5</td>\n",
       "      <td>2</td>\n",
       "      <td>11</td>\n",
       "      <td>1</td>\n",
       "      <td>1</td>\n",
       "      <td>...</td>\n",
       "      <td>16.67</td>\n",
       "      <td>1444.5</td>\n",
       "      <td>83.33</td>\n",
       "      <td>33750.0</td>\n",
       "      <td>67500.0</td>\n",
       "      <td>1.0</td>\n",
       "      <td>4</td>\n",
       "      <td>100004</td>\n",
       "      <td>seg2</td>\n",
       "      <td>Approved</td>\n",
       "    </tr>\n",
       "    <tr>\n",
       "      <th>3</th>\n",
       "      <td>3</td>\n",
       "      <td>100006</td>\n",
       "      <td>2819243</td>\n",
       "      <td>Cash loans</td>\n",
       "      <td>450000.0</td>\n",
       "      <td>470790.0</td>\n",
       "      <td>1</td>\n",
       "      <td>7</td>\n",
       "      <td>1</td>\n",
       "      <td>1</td>\n",
       "      <td>...</td>\n",
       "      <td>15.16</td>\n",
       "      <td>158107.5</td>\n",
       "      <td>151.52</td>\n",
       "      <td>45000.0</td>\n",
       "      <td>135000.0</td>\n",
       "      <td>8.0</td>\n",
       "      <td>4</td>\n",
       "      <td>100006</td>\n",
       "      <td>seg2</td>\n",
       "      <td>Approved</td>\n",
       "    </tr>\n",
       "    <tr>\n",
       "      <th>4</th>\n",
       "      <td>4</td>\n",
       "      <td>100007</td>\n",
       "      <td>1784265</td>\n",
       "      <td>Cash loans</td>\n",
       "      <td>337500.0</td>\n",
       "      <td>404055.0</td>\n",
       "      <td>4</td>\n",
       "      <td>9</td>\n",
       "      <td>1</td>\n",
       "      <td>1</td>\n",
       "      <td>...</td>\n",
       "      <td>15.44</td>\n",
       "      <td>-108945.0</td>\n",
       "      <td>65.79</td>\n",
       "      <td>60750.0</td>\n",
       "      <td>121500.0</td>\n",
       "      <td>8.0</td>\n",
       "      <td>5</td>\n",
       "      <td>100007</td>\n",
       "      <td>seg2</td>\n",
       "      <td>Refused</td>\n",
       "    </tr>\n",
       "  </tbody>\n",
       "</table>\n",
       "<p>5 rows × 63 columns</p>\n",
       "</div>"
      ],
      "text/plain": [
       "   Unnamed: 0  SK_ID_CURR  SK_ID_PREV PREV_NAME_CONTRACT_TYPE  \\\n",
       "0           0      100002     2030495          Consumer loans   \n",
       "1           1      100003     2802425              Cash loans   \n",
       "2           2      100004     2523466              Cash loans   \n",
       "3           3      100006     2819243              Cash loans   \n",
       "4           4      100007     1784265              Cash loans   \n",
       "\n",
       "   AMT_APPLICATION  PREV_AMT_CREDIT  PREV_WEEKDAY_APPR_PROCESS_START  \\\n",
       "0          17145.0          17145.0                                6   \n",
       "1         607500.0         679671.0                                4   \n",
       "2         112500.0         136444.5                                2   \n",
       "3         450000.0         470790.0                                1   \n",
       "4         337500.0         404055.0                                4   \n",
       "\n",
       "   PREV_HOUR_APPR_PROCESS_START  FLAG_LAST_APPL_PER_CONTRACT  \\\n",
       "0                            15                            1   \n",
       "1                            11                            1   \n",
       "2                            11                            1   \n",
       "3                             7                            1   \n",
       "4                             9                            1   \n",
       "\n",
       "   NFLAG_LAST_APPL_IN_DAY  ... EXP_TERM  CREDIT_DIF PERCENT_OF_VALUE  \\\n",
       "0                       1  ...     0.69   -389452.5             4.88   \n",
       "1                       1  ...    17.02   -613831.5            53.78   \n",
       "2                       1  ...    16.67      1444.5            83.33   \n",
       "3                       1  ...    15.16    158107.5           151.52   \n",
       "4                       1  ...    15.44   -108945.0            65.79   \n",
       "\n",
       "  INCOME_F_ADJUSTED INCOME_ADJUSTED  YEARS_EMPLOYED AGE_GRP  SK_ID_CURR.1  \\\n",
       "0          101250.0        202500.0             2.0       2        100002   \n",
       "1           90000.0        270000.0             3.0       4        100003   \n",
       "2           33750.0         67500.0             1.0       4        100004   \n",
       "3           45000.0        135000.0             8.0       4        100006   \n",
       "4           60750.0        121500.0             8.0       5        100007   \n",
       "\n",
       "  cluster_id  Cust_type  \n",
       "0       seg2   Approved  \n",
       "1       seg1   Approved  \n",
       "2       seg2   Approved  \n",
       "3       seg2   Approved  \n",
       "4       seg2    Refused  \n",
       "\n",
       "[5 rows x 63 columns]"
      ]
     },
     "execution_count": 755,
     "metadata": {},
     "output_type": "execute_result"
    }
   ],
   "source": [
    "df2 = df1.copy()\n",
    "df1.head()"
   ]
  },
  {
   "cell_type": "code",
   "execution_count": 756,
   "id": "a240dd75",
   "metadata": {},
   "outputs": [],
   "source": [
    "f_list = mi_scores2[1:4]\n",
    "\n",
    "# only these information from the analysied numeric variables will be availabe during prediction"
   ]
  },
  {
   "cell_type": "code",
   "execution_count": 757,
   "id": "d038ad50",
   "metadata": {},
   "outputs": [],
   "source": [
    "f = list(f_list.index)"
   ]
  },
  {
   "cell_type": "code",
   "execution_count": 758,
   "id": "e4415201",
   "metadata": {},
   "outputs": [],
   "source": [
    "l = ['REGION_POPULATION_RELATIVE', 'TOTAL_DOCUMENTS', 'EXT_SOURCE_2', 'AGE_GRP', 'YEARS_EMPLOYED', 'AMT_APPLICATION' ]\n",
    "\n",
    "# only these information from the analysied numeric variables will be availabe during prediction"
   ]
  },
  {
   "cell_type": "code",
   "execution_count": null,
   "id": "e4f32e08",
   "metadata": {},
   "outputs": [],
   "source": []
  },
  {
   "cell_type": "code",
   "execution_count": 759,
   "id": "b1829048",
   "metadata": {},
   "outputs": [
    {
     "data": {
      "text/plain": [
       "Index(['PREV_AMT_CREDIT', 'REGION_POPULATION_RELATIVE', 'AMT_CREDIT',\n",
       "       'CREDIT_DIF', 'TOTAL_DOCUMENTS', 'EXP_TERM',\n",
       "       'PREV_HOUR_APPR_PROCESS_START', 'EXT_SOURCE_2',\n",
       "       'PREV_WEEKDAY_APPR_PROCESS_START', 'AGE_GRP',\n",
       "       'OBS_30_CNT_SOCIAL_CIRCLE', 'PERCENT_OF_VALUE', 'YEARS_EMPLOYED'],\n",
       "      dtype='object', name='Unnamed: 0')"
      ]
     },
     "execution_count": 759,
     "metadata": {},
     "output_type": "execute_result"
    }
   ],
   "source": [
    "numcols"
   ]
  },
  {
   "cell_type": "code",
   "execution_count": 760,
   "id": "86544d00",
   "metadata": {},
   "outputs": [],
   "source": [
    "reg_vars = f+l\n",
    "reg_vars.append('AMT_APPLICATION')"
   ]
  },
  {
   "cell_type": "code",
   "execution_count": 761,
   "id": "23587b73",
   "metadata": {},
   "outputs": [],
   "source": [
    "df_r = df1[reg_vars]\n"
   ]
  },
  {
   "cell_type": "code",
   "execution_count": null,
   "id": "cb7acb59",
   "metadata": {},
   "outputs": [],
   "source": []
  },
  {
   "cell_type": "markdown",
   "id": "7d02857a",
   "metadata": {},
   "source": [
    "###  Dummy Preparation"
   ]
  },
  {
   "cell_type": "code",
   "execution_count": 762,
   "id": "fe5bb0a1",
   "metadata": {},
   "outputs": [],
   "source": [
    "def gettingdummies(df0,row):\n",
    "    for item in row:\n",
    "        dummy = pd.get_dummies(df0[item], drop_first = True).rename(columns = lambda x: item+'_'+str(x))\n",
    "        df0 = pd.concat([df0, dummy], axis = 1)\n",
    "        df0.drop([item], axis = 1, inplace = True)\n",
    "    return df0"
   ]
  },
  {
   "cell_type": "code",
   "execution_count": 763,
   "id": "55b273a2",
   "metadata": {},
   "outputs": [],
   "source": [
    "df1 = gettingdummies(df_r,f)\n"
   ]
  },
  {
   "cell_type": "code",
   "execution_count": 764,
   "id": "8d002a8e",
   "metadata": {},
   "outputs": [
    {
     "data": {
      "text/plain": [
       "REGION_POPULATION_RELATIVE                 float64\n",
       "TOTAL_DOCUMENTS                              int64\n",
       "EXT_SOURCE_2                               float64\n",
       "AGE_GRP                                      int64\n",
       "YEARS_EMPLOYED                             float64\n",
       "AMT_APPLICATION                            float64\n",
       "AMT_APPLICATION                            float64\n",
       "PREV_NAME_CONTRACT_TYPE_Consumer loans       uint8\n",
       "PREV_NAME_CONTRACT_TYPE_Revolving loans      uint8\n",
       "CHANNEL_TYPE_Car dealer                      uint8\n",
       "CHANNEL_TYPE_Channel of corporate sales      uint8\n",
       "CHANNEL_TYPE_Contact center                  uint8\n",
       "CHANNEL_TYPE_Country-wide                    uint8\n",
       "CHANNEL_TYPE_Credit and cash offices         uint8\n",
       "CHANNEL_TYPE_Regional / Local                uint8\n",
       "CHANNEL_TYPE_Stone                           uint8\n",
       "cluster_id_seg2                              uint8\n",
       "cluster_id_seg3                              uint8\n",
       "dtype: object"
      ]
     },
     "execution_count": 764,
     "metadata": {},
     "output_type": "execute_result"
    }
   ],
   "source": [
    "df1.dtypes"
   ]
  },
  {
   "cell_type": "markdown",
   "id": "a6fa6c4f",
   "metadata": {},
   "source": [
    "### Data Preparation"
   ]
  },
  {
   "cell_type": "code",
   "execution_count": 765,
   "id": "5f5c429b",
   "metadata": {},
   "outputs": [],
   "source": [
    "from sklearn.model_selection import train_test_split"
   ]
  },
  {
   "cell_type": "code",
   "execution_count": 766,
   "id": "526e368f",
   "metadata": {},
   "outputs": [],
   "source": [
    "np.random.seed(0)\n",
    "df_train, df_test = train_test_split(df1, train_size = 0.8, test_size = 0.2, random_state = 100)"
   ]
  },
  {
   "cell_type": "code",
   "execution_count": 767,
   "id": "b448d7ed",
   "metadata": {},
   "outputs": [],
   "source": [
    "from sklearn.preprocessing import MinMaxScaler"
   ]
  },
  {
   "cell_type": "code",
   "execution_count": 768,
   "id": "b93f11c9",
   "metadata": {},
   "outputs": [],
   "source": [
    "scaler = MinMaxScaler()\n",
    "df_train[l] = scaler.fit_transform(df_train[l])\n",
    "df_test[l] = scaler.transform(df_test[l])"
   ]
  },
  {
   "cell_type": "code",
   "execution_count": 769,
   "id": "3233b0be",
   "metadata": {},
   "outputs": [],
   "source": [
    "y_train_r = df_train.pop('AMT_APPLICATION')\n",
    "y_test_r = df_test.pop('AMT_APPLICATION')\n",
    "X_train_r = df_train\n",
    "X_test_r = df_test"
   ]
  },
  {
   "cell_type": "code",
   "execution_count": 770,
   "id": "f14b2c45",
   "metadata": {},
   "outputs": [
    {
     "data": {
      "text/html": [
       "<div>\n",
       "<style scoped>\n",
       "    .dataframe tbody tr th:only-of-type {\n",
       "        vertical-align: middle;\n",
       "    }\n",
       "\n",
       "    .dataframe tbody tr th {\n",
       "        vertical-align: top;\n",
       "    }\n",
       "\n",
       "    .dataframe thead th {\n",
       "        text-align: right;\n",
       "    }\n",
       "</style>\n",
       "<table border=\"1\" class=\"dataframe\">\n",
       "  <thead>\n",
       "    <tr style=\"text-align: right;\">\n",
       "      <th></th>\n",
       "      <th>REGION_POPULATION_RELATIVE</th>\n",
       "      <th>TOTAL_DOCUMENTS</th>\n",
       "      <th>EXT_SOURCE_2</th>\n",
       "      <th>AGE_GRP</th>\n",
       "      <th>YEARS_EMPLOYED</th>\n",
       "      <th>PREV_NAME_CONTRACT_TYPE_Consumer loans</th>\n",
       "      <th>PREV_NAME_CONTRACT_TYPE_Revolving loans</th>\n",
       "      <th>CHANNEL_TYPE_Car dealer</th>\n",
       "      <th>CHANNEL_TYPE_Channel of corporate sales</th>\n",
       "      <th>CHANNEL_TYPE_Contact center</th>\n",
       "      <th>CHANNEL_TYPE_Country-wide</th>\n",
       "      <th>CHANNEL_TYPE_Credit and cash offices</th>\n",
       "      <th>CHANNEL_TYPE_Regional / Local</th>\n",
       "      <th>CHANNEL_TYPE_Stone</th>\n",
       "      <th>cluster_id_seg2</th>\n",
       "      <th>cluster_id_seg3</th>\n",
       "    </tr>\n",
       "  </thead>\n",
       "  <tbody>\n",
       "    <tr>\n",
       "      <th>43285</th>\n",
       "      <td>0.491595</td>\n",
       "      <td>0.25</td>\n",
       "      <td>0.789137</td>\n",
       "      <td>0.50</td>\n",
       "      <td>0.145833</td>\n",
       "      <td>1</td>\n",
       "      <td>0</td>\n",
       "      <td>0</td>\n",
       "      <td>0</td>\n",
       "      <td>0</td>\n",
       "      <td>1</td>\n",
       "      <td>0</td>\n",
       "      <td>0</td>\n",
       "      <td>0</td>\n",
       "      <td>1</td>\n",
       "      <td>0</td>\n",
       "    </tr>\n",
       "    <tr>\n",
       "      <th>251502</th>\n",
       "      <td>0.268617</td>\n",
       "      <td>0.25</td>\n",
       "      <td>0.732782</td>\n",
       "      <td>0.50</td>\n",
       "      <td>0.083333</td>\n",
       "      <td>1</td>\n",
       "      <td>0</td>\n",
       "      <td>0</td>\n",
       "      <td>0</td>\n",
       "      <td>0</td>\n",
       "      <td>1</td>\n",
       "      <td>0</td>\n",
       "      <td>0</td>\n",
       "      <td>0</td>\n",
       "      <td>0</td>\n",
       "      <td>0</td>\n",
       "    </tr>\n",
       "    <tr>\n",
       "      <th>174909</th>\n",
       "      <td>0.206749</td>\n",
       "      <td>0.25</td>\n",
       "      <td>0.740438</td>\n",
       "      <td>0.75</td>\n",
       "      <td>0.062500</td>\n",
       "      <td>0</td>\n",
       "      <td>0</td>\n",
       "      <td>0</td>\n",
       "      <td>0</td>\n",
       "      <td>0</td>\n",
       "      <td>0</td>\n",
       "      <td>1</td>\n",
       "      <td>0</td>\n",
       "      <td>0</td>\n",
       "      <td>1</td>\n",
       "      <td>0</td>\n",
       "    </tr>\n",
       "    <tr>\n",
       "      <th>97632</th>\n",
       "      <td>0.635991</td>\n",
       "      <td>0.25</td>\n",
       "      <td>0.836942</td>\n",
       "      <td>0.25</td>\n",
       "      <td>0.041667</td>\n",
       "      <td>0</td>\n",
       "      <td>0</td>\n",
       "      <td>0</td>\n",
       "      <td>0</td>\n",
       "      <td>0</td>\n",
       "      <td>0</td>\n",
       "      <td>1</td>\n",
       "      <td>0</td>\n",
       "      <td>0</td>\n",
       "      <td>0</td>\n",
       "      <td>0</td>\n",
       "    </tr>\n",
       "    <tr>\n",
       "      <th>169724</th>\n",
       "      <td>0.069553</td>\n",
       "      <td>0.25</td>\n",
       "      <td>0.575265</td>\n",
       "      <td>0.50</td>\n",
       "      <td>0.250000</td>\n",
       "      <td>1</td>\n",
       "      <td>0</td>\n",
       "      <td>0</td>\n",
       "      <td>0</td>\n",
       "      <td>0</td>\n",
       "      <td>0</td>\n",
       "      <td>0</td>\n",
       "      <td>0</td>\n",
       "      <td>1</td>\n",
       "      <td>1</td>\n",
       "      <td>0</td>\n",
       "    </tr>\n",
       "    <tr>\n",
       "      <th>...</th>\n",
       "      <td>...</td>\n",
       "      <td>...</td>\n",
       "      <td>...</td>\n",
       "      <td>...</td>\n",
       "      <td>...</td>\n",
       "      <td>...</td>\n",
       "      <td>...</td>\n",
       "      <td>...</td>\n",
       "      <td>...</td>\n",
       "      <td>...</td>\n",
       "      <td>...</td>\n",
       "      <td>...</td>\n",
       "      <td>...</td>\n",
       "      <td>...</td>\n",
       "      <td>...</td>\n",
       "      <td>...</td>\n",
       "    </tr>\n",
       "    <tr>\n",
       "      <th>65615</th>\n",
       "      <td>0.081932</td>\n",
       "      <td>0.25</td>\n",
       "      <td>0.643982</td>\n",
       "      <td>0.25</td>\n",
       "      <td>0.062500</td>\n",
       "      <td>1</td>\n",
       "      <td>0</td>\n",
       "      <td>0</td>\n",
       "      <td>0</td>\n",
       "      <td>0</td>\n",
       "      <td>1</td>\n",
       "      <td>0</td>\n",
       "      <td>0</td>\n",
       "      <td>0</td>\n",
       "      <td>1</td>\n",
       "      <td>0</td>\n",
       "    </tr>\n",
       "    <tr>\n",
       "      <th>253799</th>\n",
       "      <td>0.097483</td>\n",
       "      <td>0.25</td>\n",
       "      <td>0.737803</td>\n",
       "      <td>0.50</td>\n",
       "      <td>0.062500</td>\n",
       "      <td>0</td>\n",
       "      <td>0</td>\n",
       "      <td>0</td>\n",
       "      <td>0</td>\n",
       "      <td>0</td>\n",
       "      <td>0</td>\n",
       "      <td>1</td>\n",
       "      <td>0</td>\n",
       "      <td>0</td>\n",
       "      <td>1</td>\n",
       "      <td>0</td>\n",
       "    </tr>\n",
       "    <tr>\n",
       "      <th>210755</th>\n",
       "      <td>0.491595</td>\n",
       "      <td>0.25</td>\n",
       "      <td>0.887663</td>\n",
       "      <td>0.50</td>\n",
       "      <td>0.125000</td>\n",
       "      <td>0</td>\n",
       "      <td>0</td>\n",
       "      <td>0</td>\n",
       "      <td>0</td>\n",
       "      <td>0</td>\n",
       "      <td>0</td>\n",
       "      <td>1</td>\n",
       "      <td>0</td>\n",
       "      <td>0</td>\n",
       "      <td>1</td>\n",
       "      <td>0</td>\n",
       "    </tr>\n",
       "    <tr>\n",
       "      <th>56088</th>\n",
       "      <td>0.421848</td>\n",
       "      <td>0.25</td>\n",
       "      <td>0.583544</td>\n",
       "      <td>0.25</td>\n",
       "      <td>0.020833</td>\n",
       "      <td>1</td>\n",
       "      <td>0</td>\n",
       "      <td>0</td>\n",
       "      <td>0</td>\n",
       "      <td>0</td>\n",
       "      <td>1</td>\n",
       "      <td>0</td>\n",
       "      <td>0</td>\n",
       "      <td>0</td>\n",
       "      <td>1</td>\n",
       "      <td>0</td>\n",
       "    </tr>\n",
       "    <tr>\n",
       "      <th>300552</th>\n",
       "      <td>0.311695</td>\n",
       "      <td>0.25</td>\n",
       "      <td>0.749410</td>\n",
       "      <td>0.75</td>\n",
       "      <td>0.020833</td>\n",
       "      <td>1</td>\n",
       "      <td>0</td>\n",
       "      <td>0</td>\n",
       "      <td>0</td>\n",
       "      <td>0</td>\n",
       "      <td>1</td>\n",
       "      <td>0</td>\n",
       "      <td>0</td>\n",
       "      <td>0</td>\n",
       "      <td>1</td>\n",
       "      <td>0</td>\n",
       "    </tr>\n",
       "  </tbody>\n",
       "</table>\n",
       "<p>243932 rows × 16 columns</p>\n",
       "</div>"
      ],
      "text/plain": [
       "        REGION_POPULATION_RELATIVE  TOTAL_DOCUMENTS  EXT_SOURCE_2  AGE_GRP  \\\n",
       "43285                     0.491595             0.25      0.789137     0.50   \n",
       "251502                    0.268617             0.25      0.732782     0.50   \n",
       "174909                    0.206749             0.25      0.740438     0.75   \n",
       "97632                     0.635991             0.25      0.836942     0.25   \n",
       "169724                    0.069553             0.25      0.575265     0.50   \n",
       "...                            ...              ...           ...      ...   \n",
       "65615                     0.081932             0.25      0.643982     0.25   \n",
       "253799                    0.097483             0.25      0.737803     0.50   \n",
       "210755                    0.491595             0.25      0.887663     0.50   \n",
       "56088                     0.421848             0.25      0.583544     0.25   \n",
       "300552                    0.311695             0.25      0.749410     0.75   \n",
       "\n",
       "        YEARS_EMPLOYED  PREV_NAME_CONTRACT_TYPE_Consumer loans  \\\n",
       "43285         0.145833                                       1   \n",
       "251502        0.083333                                       1   \n",
       "174909        0.062500                                       0   \n",
       "97632         0.041667                                       0   \n",
       "169724        0.250000                                       1   \n",
       "...                ...                                     ...   \n",
       "65615         0.062500                                       1   \n",
       "253799        0.062500                                       0   \n",
       "210755        0.125000                                       0   \n",
       "56088         0.020833                                       1   \n",
       "300552        0.020833                                       1   \n",
       "\n",
       "        PREV_NAME_CONTRACT_TYPE_Revolving loans  CHANNEL_TYPE_Car dealer  \\\n",
       "43285                                         0                        0   \n",
       "251502                                        0                        0   \n",
       "174909                                        0                        0   \n",
       "97632                                         0                        0   \n",
       "169724                                        0                        0   \n",
       "...                                         ...                      ...   \n",
       "65615                                         0                        0   \n",
       "253799                                        0                        0   \n",
       "210755                                        0                        0   \n",
       "56088                                         0                        0   \n",
       "300552                                        0                        0   \n",
       "\n",
       "        CHANNEL_TYPE_Channel of corporate sales  CHANNEL_TYPE_Contact center  \\\n",
       "43285                                         0                            0   \n",
       "251502                                        0                            0   \n",
       "174909                                        0                            0   \n",
       "97632                                         0                            0   \n",
       "169724                                        0                            0   \n",
       "...                                         ...                          ...   \n",
       "65615                                         0                            0   \n",
       "253799                                        0                            0   \n",
       "210755                                        0                            0   \n",
       "56088                                         0                            0   \n",
       "300552                                        0                            0   \n",
       "\n",
       "        CHANNEL_TYPE_Country-wide  CHANNEL_TYPE_Credit and cash offices  \\\n",
       "43285                           1                                     0   \n",
       "251502                          1                                     0   \n",
       "174909                          0                                     1   \n",
       "97632                           0                                     1   \n",
       "169724                          0                                     0   \n",
       "...                           ...                                   ...   \n",
       "65615                           1                                     0   \n",
       "253799                          0                                     1   \n",
       "210755                          0                                     1   \n",
       "56088                           1                                     0   \n",
       "300552                          1                                     0   \n",
       "\n",
       "        CHANNEL_TYPE_Regional / Local  CHANNEL_TYPE_Stone  cluster_id_seg2  \\\n",
       "43285                               0                   0                1   \n",
       "251502                              0                   0                0   \n",
       "174909                              0                   0                1   \n",
       "97632                               0                   0                0   \n",
       "169724                              0                   1                1   \n",
       "...                               ...                 ...              ...   \n",
       "65615                               0                   0                1   \n",
       "253799                              0                   0                1   \n",
       "210755                              0                   0                1   \n",
       "56088                               0                   0                1   \n",
       "300552                              0                   0                1   \n",
       "\n",
       "        cluster_id_seg3  \n",
       "43285                 0  \n",
       "251502                0  \n",
       "174909                0  \n",
       "97632                 0  \n",
       "169724                0  \n",
       "...                 ...  \n",
       "65615                 0  \n",
       "253799                0  \n",
       "210755                0  \n",
       "56088                 0  \n",
       "300552                0  \n",
       "\n",
       "[243932 rows x 16 columns]"
      ]
     },
     "execution_count": 770,
     "metadata": {},
     "output_type": "execute_result"
    }
   ],
   "source": [
    "df_train"
   ]
  },
  {
   "cell_type": "markdown",
   "id": "92d6eff4",
   "metadata": {},
   "source": [
    "## Model Building"
   ]
  },
  {
   "cell_type": "markdown",
   "id": "369844d0",
   "metadata": {},
   "source": [
    "## Decision Tree Regressor"
   ]
  },
  {
   "cell_type": "code",
   "execution_count": 771,
   "id": "91309506",
   "metadata": {},
   "outputs": [],
   "source": [
    "from sklearn.tree import DecisionTreeRegressor"
   ]
  },
  {
   "cell_type": "markdown",
   "id": "e20d4160",
   "metadata": {},
   "source": [
    "#### Hyper-parameter Tuning"
   ]
  },
  {
   "cell_type": "code",
   "execution_count": 772,
   "id": "517979fc",
   "metadata": {},
   "outputs": [],
   "source": [
    "dt = DecisionTreeRegressor(random_state=42)"
   ]
  },
  {
   "cell_type": "code",
   "execution_count": 773,
   "id": "8cd968df",
   "metadata": {},
   "outputs": [],
   "source": [
    "from sklearn.model_selection import GridSearchCV"
   ]
  },
  {
   "cell_type": "code",
   "execution_count": 774,
   "id": "e4a0600d",
   "metadata": {},
   "outputs": [],
   "source": [
    "params = {'splitter':['best'],\n",
    "    'max_depth': [9, 13, 19, 27],\n",
    "    'min_samples_leaf': [33, 67, 101, 151],\n",
    "           \"max_features\":[\"auto\",\"sqrt\"]\n",
    "}"
   ]
  },
  {
   "cell_type": "code",
   "execution_count": 775,
   "id": "330cda5f",
   "metadata": {},
   "outputs": [],
   "source": [
    "?GridSearchCV"
   ]
  },
  {
   "cell_type": "code",
   "execution_count": 776,
   "id": "e121d62c",
   "metadata": {},
   "outputs": [],
   "source": [
    "grid_search = GridSearchCV(estimator=dt, \n",
    "                           param_grid=params, \n",
    "                           cv=4, verbose=3, scoring = \"neg_mean_squared_error\")"
   ]
  },
  {
   "cell_type": "code",
   "execution_count": 777,
   "id": "8d711b5a",
   "metadata": {},
   "outputs": [
    {
     "name": "stdout",
     "output_type": "stream",
     "text": [
      "Fitting 4 folds for each of 32 candidates, totalling 128 fits\n",
      "[CV 1/4] END max_depth=9, max_features=auto, min_samples_leaf=33, splitter=best;, score=-0.002 total time=   1.1s\n",
      "[CV 2/4] END max_depth=9, max_features=auto, min_samples_leaf=33, splitter=best;, score=-0.002 total time=   0.9s\n",
      "[CV 3/4] END max_depth=9, max_features=auto, min_samples_leaf=33, splitter=best;, score=-0.002 total time=   0.6s\n",
      "[CV 4/4] END max_depth=9, max_features=auto, min_samples_leaf=33, splitter=best;, score=-0.002 total time=   0.6s\n",
      "[CV 1/4] END max_depth=9, max_features=auto, min_samples_leaf=67, splitter=best;, score=-0.002 total time=   1.4s\n",
      "[CV 2/4] END max_depth=9, max_features=auto, min_samples_leaf=67, splitter=best;, score=-0.002 total time=   2.1s\n",
      "[CV 3/4] END max_depth=9, max_features=auto, min_samples_leaf=67, splitter=best;, score=-0.002 total time=   1.8s\n",
      "[CV 4/4] END max_depth=9, max_features=auto, min_samples_leaf=67, splitter=best;, score=-0.002 total time=   1.5s\n",
      "[CV 1/4] END max_depth=9, max_features=auto, min_samples_leaf=101, splitter=best;, score=-0.002 total time=   0.9s\n",
      "[CV 2/4] END max_depth=9, max_features=auto, min_samples_leaf=101, splitter=best;, score=-0.002 total time=   2.4s\n",
      "[CV 3/4] END max_depth=9, max_features=auto, min_samples_leaf=101, splitter=best;, score=-0.002 total time=   0.7s\n",
      "[CV 4/4] END max_depth=9, max_features=auto, min_samples_leaf=101, splitter=best;, score=-0.002 total time=   0.8s\n",
      "[CV 1/4] END max_depth=9, max_features=auto, min_samples_leaf=151, splitter=best;, score=-0.002 total time=   0.8s\n",
      "[CV 2/4] END max_depth=9, max_features=auto, min_samples_leaf=151, splitter=best;, score=-0.002 total time=   0.7s\n",
      "[CV 3/4] END max_depth=9, max_features=auto, min_samples_leaf=151, splitter=best;, score=-0.002 total time=   0.6s\n",
      "[CV 4/4] END max_depth=9, max_features=auto, min_samples_leaf=151, splitter=best;, score=-0.002 total time=   0.7s\n",
      "[CV 1/4] END max_depth=9, max_features=sqrt, min_samples_leaf=33, splitter=best;, score=-0.002 total time=   0.2s\n",
      "[CV 2/4] END max_depth=9, max_features=sqrt, min_samples_leaf=33, splitter=best;, score=-0.003 total time=   0.3s\n",
      "[CV 3/4] END max_depth=9, max_features=sqrt, min_samples_leaf=33, splitter=best;, score=-0.003 total time=   0.3s\n",
      "[CV 4/4] END max_depth=9, max_features=sqrt, min_samples_leaf=33, splitter=best;, score=-0.003 total time=   0.5s\n",
      "[CV 1/4] END max_depth=9, max_features=sqrt, min_samples_leaf=67, splitter=best;, score=-0.002 total time=   0.5s\n",
      "[CV 2/4] END max_depth=9, max_features=sqrt, min_samples_leaf=67, splitter=best;, score=-0.003 total time=   0.3s\n",
      "[CV 3/4] END max_depth=9, max_features=sqrt, min_samples_leaf=67, splitter=best;, score=-0.003 total time=   0.5s\n",
      "[CV 4/4] END max_depth=9, max_features=sqrt, min_samples_leaf=67, splitter=best;, score=-0.003 total time=   0.4s\n",
      "[CV 1/4] END max_depth=9, max_features=sqrt, min_samples_leaf=101, splitter=best;, score=-0.003 total time=   0.2s\n",
      "[CV 2/4] END max_depth=9, max_features=sqrt, min_samples_leaf=101, splitter=best;, score=-0.004 total time=   0.2s\n",
      "[CV 3/4] END max_depth=9, max_features=sqrt, min_samples_leaf=101, splitter=best;, score=-0.003 total time=   0.3s\n",
      "[CV 4/4] END max_depth=9, max_features=sqrt, min_samples_leaf=101, splitter=best;, score=-0.003 total time=   0.2s\n",
      "[CV 1/4] END max_depth=9, max_features=sqrt, min_samples_leaf=151, splitter=best;, score=-0.003 total time=   0.3s\n",
      "[CV 2/4] END max_depth=9, max_features=sqrt, min_samples_leaf=151, splitter=best;, score=-0.003 total time=   0.2s\n",
      "[CV 3/4] END max_depth=9, max_features=sqrt, min_samples_leaf=151, splitter=best;, score=-0.003 total time=   0.2s\n",
      "[CV 4/4] END max_depth=9, max_features=sqrt, min_samples_leaf=151, splitter=best;, score=-0.003 total time=   0.2s\n",
      "[CV 1/4] END max_depth=13, max_features=auto, min_samples_leaf=33, splitter=best;, score=-0.002 total time=   0.7s\n",
      "[CV 2/4] END max_depth=13, max_features=auto, min_samples_leaf=33, splitter=best;, score=-0.002 total time=   0.8s\n",
      "[CV 3/4] END max_depth=13, max_features=auto, min_samples_leaf=33, splitter=best;, score=-0.002 total time=   1.0s\n",
      "[CV 4/4] END max_depth=13, max_features=auto, min_samples_leaf=33, splitter=best;, score=-0.002 total time=   1.0s\n",
      "[CV 1/4] END max_depth=13, max_features=auto, min_samples_leaf=67, splitter=best;, score=-0.002 total time=   0.9s\n",
      "[CV 2/4] END max_depth=13, max_features=auto, min_samples_leaf=67, splitter=best;, score=-0.002 total time=   0.7s\n",
      "[CV 3/4] END max_depth=13, max_features=auto, min_samples_leaf=67, splitter=best;, score=-0.002 total time=   1.3s\n",
      "[CV 4/4] END max_depth=13, max_features=auto, min_samples_leaf=67, splitter=best;, score=-0.002 total time=   0.7s\n",
      "[CV 1/4] END max_depth=13, max_features=auto, min_samples_leaf=101, splitter=best;, score=-0.002 total time=   0.8s\n",
      "[CV 2/4] END max_depth=13, max_features=auto, min_samples_leaf=101, splitter=best;, score=-0.002 total time=   0.7s\n",
      "[CV 3/4] END max_depth=13, max_features=auto, min_samples_leaf=101, splitter=best;, score=-0.002 total time=   0.7s\n",
      "[CV 4/4] END max_depth=13, max_features=auto, min_samples_leaf=101, splitter=best;, score=-0.002 total time=   0.7s\n",
      "[CV 1/4] END max_depth=13, max_features=auto, min_samples_leaf=151, splitter=best;, score=-0.002 total time=   0.7s\n",
      "[CV 2/4] END max_depth=13, max_features=auto, min_samples_leaf=151, splitter=best;, score=-0.002 total time=   0.8s\n",
      "[CV 3/4] END max_depth=13, max_features=auto, min_samples_leaf=151, splitter=best;, score=-0.002 total time=   1.7s\n",
      "[CV 4/4] END max_depth=13, max_features=auto, min_samples_leaf=151, splitter=best;, score=-0.002 total time=   0.9s\n",
      "[CV 1/4] END max_depth=13, max_features=sqrt, min_samples_leaf=33, splitter=best;, score=-0.003 total time=   0.4s\n",
      "[CV 2/4] END max_depth=13, max_features=sqrt, min_samples_leaf=33, splitter=best;, score=-0.002 total time=   0.3s\n",
      "[CV 3/4] END max_depth=13, max_features=sqrt, min_samples_leaf=33, splitter=best;, score=-0.002 total time=   0.3s\n",
      "[CV 4/4] END max_depth=13, max_features=sqrt, min_samples_leaf=33, splitter=best;, score=-0.002 total time=   0.3s\n",
      "[CV 1/4] END max_depth=13, max_features=sqrt, min_samples_leaf=67, splitter=best;, score=-0.002 total time=   0.3s\n",
      "[CV 2/4] END max_depth=13, max_features=sqrt, min_samples_leaf=67, splitter=best;, score=-0.002 total time=   0.2s\n",
      "[CV 3/4] END max_depth=13, max_features=sqrt, min_samples_leaf=67, splitter=best;, score=-0.003 total time=   0.3s\n",
      "[CV 4/4] END max_depth=13, max_features=sqrt, min_samples_leaf=67, splitter=best;, score=-0.003 total time=   0.3s\n",
      "[CV 1/4] END max_depth=13, max_features=sqrt, min_samples_leaf=101, splitter=best;, score=-0.003 total time=   0.3s\n",
      "[CV 2/4] END max_depth=13, max_features=sqrt, min_samples_leaf=101, splitter=best;, score=-0.003 total time=   0.3s\n",
      "[CV 3/4] END max_depth=13, max_features=sqrt, min_samples_leaf=101, splitter=best;, score=-0.003 total time=   0.3s\n",
      "[CV 4/4] END max_depth=13, max_features=sqrt, min_samples_leaf=101, splitter=best;, score=-0.003 total time=   0.3s\n",
      "[CV 1/4] END max_depth=13, max_features=sqrt, min_samples_leaf=151, splitter=best;, score=-0.002 total time=   0.3s\n",
      "[CV 2/4] END max_depth=13, max_features=sqrt, min_samples_leaf=151, splitter=best;, score=-0.002 total time=   0.2s\n",
      "[CV 3/4] END max_depth=13, max_features=sqrt, min_samples_leaf=151, splitter=best;, score=-0.003 total time=   0.3s\n",
      "[CV 4/4] END max_depth=13, max_features=sqrt, min_samples_leaf=151, splitter=best;, score=-0.003 total time=   0.2s\n",
      "[CV 1/4] END max_depth=19, max_features=auto, min_samples_leaf=33, splitter=best;, score=-0.002 total time=   0.8s\n",
      "[CV 2/4] END max_depth=19, max_features=auto, min_samples_leaf=33, splitter=best;, score=-0.002 total time=   0.8s\n",
      "[CV 3/4] END max_depth=19, max_features=auto, min_samples_leaf=33, splitter=best;, score=-0.002 total time=   0.8s\n",
      "[CV 4/4] END max_depth=19, max_features=auto, min_samples_leaf=33, splitter=best;, score=-0.002 total time=   0.8s\n",
      "[CV 1/4] END max_depth=19, max_features=auto, min_samples_leaf=67, splitter=best;, score=-0.002 total time=   0.8s\n",
      "[CV 2/4] END max_depth=19, max_features=auto, min_samples_leaf=67, splitter=best;, score=-0.002 total time=   0.8s\n",
      "[CV 3/4] END max_depth=19, max_features=auto, min_samples_leaf=67, splitter=best;, score=-0.002 total time=   1.2s\n"
     ]
    },
    {
     "name": "stdout",
     "output_type": "stream",
     "text": [
      "[CV 4/4] END max_depth=19, max_features=auto, min_samples_leaf=67, splitter=best;, score=-0.002 total time=   0.8s\n",
      "[CV 1/4] END max_depth=19, max_features=auto, min_samples_leaf=101, splitter=best;, score=-0.002 total time=   0.7s\n",
      "[CV 2/4] END max_depth=19, max_features=auto, min_samples_leaf=101, splitter=best;, score=-0.002 total time=   0.7s\n",
      "[CV 3/4] END max_depth=19, max_features=auto, min_samples_leaf=101, splitter=best;, score=-0.002 total time=   0.7s\n",
      "[CV 4/4] END max_depth=19, max_features=auto, min_samples_leaf=101, splitter=best;, score=-0.002 total time=   0.7s\n",
      "[CV 1/4] END max_depth=19, max_features=auto, min_samples_leaf=151, splitter=best;, score=-0.002 total time=   0.7s\n",
      "[CV 2/4] END max_depth=19, max_features=auto, min_samples_leaf=151, splitter=best;, score=-0.002 total time=   0.7s\n",
      "[CV 3/4] END max_depth=19, max_features=auto, min_samples_leaf=151, splitter=best;, score=-0.002 total time=   0.6s\n",
      "[CV 4/4] END max_depth=19, max_features=auto, min_samples_leaf=151, splitter=best;, score=-0.002 total time=   0.6s\n",
      "[CV 1/4] END max_depth=19, max_features=sqrt, min_samples_leaf=33, splitter=best;, score=-0.002 total time=   0.3s\n",
      "[CV 2/4] END max_depth=19, max_features=sqrt, min_samples_leaf=33, splitter=best;, score=-0.002 total time=   0.3s\n",
      "[CV 3/4] END max_depth=19, max_features=sqrt, min_samples_leaf=33, splitter=best;, score=-0.002 total time=   0.3s\n",
      "[CV 4/4] END max_depth=19, max_features=sqrt, min_samples_leaf=33, splitter=best;, score=-0.003 total time=   0.3s\n",
      "[CV 1/4] END max_depth=19, max_features=sqrt, min_samples_leaf=67, splitter=best;, score=-0.004 total time=   0.4s\n",
      "[CV 2/4] END max_depth=19, max_features=sqrt, min_samples_leaf=67, splitter=best;, score=-0.004 total time=   0.2s\n",
      "[CV 3/4] END max_depth=19, max_features=sqrt, min_samples_leaf=67, splitter=best;, score=-0.002 total time=   0.3s\n",
      "[CV 4/4] END max_depth=19, max_features=sqrt, min_samples_leaf=67, splitter=best;, score=-0.003 total time=   0.3s\n",
      "[CV 1/4] END max_depth=19, max_features=sqrt, min_samples_leaf=101, splitter=best;, score=-0.002 total time=   0.3s\n",
      "[CV 2/4] END max_depth=19, max_features=sqrt, min_samples_leaf=101, splitter=best;, score=-0.004 total time=   0.3s\n",
      "[CV 3/4] END max_depth=19, max_features=sqrt, min_samples_leaf=101, splitter=best;, score=-0.003 total time=   0.3s\n",
      "[CV 4/4] END max_depth=19, max_features=sqrt, min_samples_leaf=101, splitter=best;, score=-0.003 total time=   0.3s\n",
      "[CV 1/4] END max_depth=19, max_features=sqrt, min_samples_leaf=151, splitter=best;, score=-0.003 total time=   0.3s\n",
      "[CV 2/4] END max_depth=19, max_features=sqrt, min_samples_leaf=151, splitter=best;, score=-0.002 total time=   0.3s\n",
      "[CV 3/4] END max_depth=19, max_features=sqrt, min_samples_leaf=151, splitter=best;, score=-0.002 total time=   0.3s\n",
      "[CV 4/4] END max_depth=19, max_features=sqrt, min_samples_leaf=151, splitter=best;, score=-0.003 total time=   0.3s\n",
      "[CV 1/4] END max_depth=27, max_features=auto, min_samples_leaf=33, splitter=best;, score=-0.002 total time=   0.9s\n",
      "[CV 2/4] END max_depth=27, max_features=auto, min_samples_leaf=33, splitter=best;, score=-0.002 total time=   0.8s\n",
      "[CV 3/4] END max_depth=27, max_features=auto, min_samples_leaf=33, splitter=best;, score=-0.002 total time=   0.8s\n",
      "[CV 4/4] END max_depth=27, max_features=auto, min_samples_leaf=33, splitter=best;, score=-0.002 total time=   0.8s\n",
      "[CV 1/4] END max_depth=27, max_features=auto, min_samples_leaf=67, splitter=best;, score=-0.002 total time=   0.8s\n",
      "[CV 2/4] END max_depth=27, max_features=auto, min_samples_leaf=67, splitter=best;, score=-0.002 total time=   0.8s\n",
      "[CV 3/4] END max_depth=27, max_features=auto, min_samples_leaf=67, splitter=best;, score=-0.002 total time=   0.8s\n",
      "[CV 4/4] END max_depth=27, max_features=auto, min_samples_leaf=67, splitter=best;, score=-0.002 total time=   0.7s\n",
      "[CV 1/4] END max_depth=27, max_features=auto, min_samples_leaf=101, splitter=best;, score=-0.002 total time=   0.9s\n",
      "[CV 2/4] END max_depth=27, max_features=auto, min_samples_leaf=101, splitter=best;, score=-0.002 total time=   0.7s\n",
      "[CV 3/4] END max_depth=27, max_features=auto, min_samples_leaf=101, splitter=best;, score=-0.002 total time=   0.7s\n",
      "[CV 4/4] END max_depth=27, max_features=auto, min_samples_leaf=101, splitter=best;, score=-0.002 total time=   0.7s\n",
      "[CV 1/4] END max_depth=27, max_features=auto, min_samples_leaf=151, splitter=best;, score=-0.002 total time=   0.7s\n",
      "[CV 2/4] END max_depth=27, max_features=auto, min_samples_leaf=151, splitter=best;, score=-0.002 total time=   0.7s\n",
      "[CV 3/4] END max_depth=27, max_features=auto, min_samples_leaf=151, splitter=best;, score=-0.002 total time=   0.7s\n",
      "[CV 4/4] END max_depth=27, max_features=auto, min_samples_leaf=151, splitter=best;, score=-0.002 total time=   0.6s\n",
      "[CV 1/4] END max_depth=27, max_features=sqrt, min_samples_leaf=33, splitter=best;, score=-0.002 total time=   0.3s\n",
      "[CV 2/4] END max_depth=27, max_features=sqrt, min_samples_leaf=33, splitter=best;, score=-0.002 total time=   0.3s\n",
      "[CV 3/4] END max_depth=27, max_features=sqrt, min_samples_leaf=33, splitter=best;, score=-0.003 total time=   0.3s\n",
      "[CV 4/4] END max_depth=27, max_features=sqrt, min_samples_leaf=33, splitter=best;, score=-0.002 total time=   0.3s\n",
      "[CV 1/4] END max_depth=27, max_features=sqrt, min_samples_leaf=67, splitter=best;, score=-0.002 total time=   0.3s\n",
      "[CV 2/4] END max_depth=27, max_features=sqrt, min_samples_leaf=67, splitter=best;, score=-0.002 total time=   0.3s\n",
      "[CV 3/4] END max_depth=27, max_features=sqrt, min_samples_leaf=67, splitter=best;, score=-0.002 total time=   0.3s\n",
      "[CV 4/4] END max_depth=27, max_features=sqrt, min_samples_leaf=67, splitter=best;, score=-0.004 total time=   0.2s\n",
      "[CV 1/4] END max_depth=27, max_features=sqrt, min_samples_leaf=101, splitter=best;, score=-0.003 total time=   0.3s\n",
      "[CV 2/4] END max_depth=27, max_features=sqrt, min_samples_leaf=101, splitter=best;, score=-0.004 total time=   0.2s\n",
      "[CV 3/4] END max_depth=27, max_features=sqrt, min_samples_leaf=101, splitter=best;, score=-0.003 total time=   0.3s\n",
      "[CV 4/4] END max_depth=27, max_features=sqrt, min_samples_leaf=101, splitter=best;, score=-0.003 total time=   0.3s\n",
      "[CV 1/4] END max_depth=27, max_features=sqrt, min_samples_leaf=151, splitter=best;, score=-0.002 total time=   0.3s\n",
      "[CV 2/4] END max_depth=27, max_features=sqrt, min_samples_leaf=151, splitter=best;, score=-0.002 total time=   0.3s\n",
      "[CV 3/4] END max_depth=27, max_features=sqrt, min_samples_leaf=151, splitter=best;, score=-0.002 total time=   0.3s\n",
      "[CV 4/4] END max_depth=27, max_features=sqrt, min_samples_leaf=151, splitter=best;, score=-0.003 total time=   0.3s\n",
      "CPU times: user 56 s, sys: 3.43 s, total: 59.5 s\n",
      "Wall time: 1min 15s\n"
     ]
    },
    {
     "data": {
      "text/plain": [
       "GridSearchCV(cv=4, estimator=DecisionTreeRegressor(random_state=42),\n",
       "             param_grid={'max_depth': [9, 13, 19, 27],\n",
       "                         'max_features': ['auto', 'sqrt'],\n",
       "                         'min_samples_leaf': [33, 67, 101, 151],\n",
       "                         'splitter': ['best']},\n",
       "             scoring='neg_mean_squared_error', verbose=3)"
      ]
     },
     "execution_count": 777,
     "metadata": {},
     "output_type": "execute_result"
    }
   ],
   "source": [
    "%%time\n",
    "grid_search.fit(X_train_r, y_train_r)"
   ]
  },
  {
   "cell_type": "code",
   "execution_count": 778,
   "id": "d7ef2fef",
   "metadata": {},
   "outputs": [
    {
     "data": {
      "text/plain": [
       "DecisionTreeRegressor(max_depth=9, max_features='auto', min_samples_leaf=33,\n",
       "                      random_state=42)"
      ]
     },
     "execution_count": 778,
     "metadata": {},
     "output_type": "execute_result"
    }
   ],
   "source": [
    "grid_search.best_estimator_"
   ]
  },
  {
   "cell_type": "code",
   "execution_count": 779,
   "id": "732b61d3",
   "metadata": {},
   "outputs": [],
   "source": [
    "decision = grid_search.best_estimator_"
   ]
  },
  {
   "cell_type": "code",
   "execution_count": 780,
   "id": "a2689faf",
   "metadata": {},
   "outputs": [],
   "source": [
    "y_pred = decision.predict(X_test_r)"
   ]
  },
  {
   "cell_type": "code",
   "execution_count": 781,
   "id": "fef928a8",
   "metadata": {},
   "outputs": [],
   "source": [
    "from sklearn.metrics import r2_score\n",
    "\n",
    "r_test = r2_score(y_test_r, y_pred)\n",
    "y_pred_train = decision.predict(X_train_r)\n",
    "r_train = r2_score(y_train_r, y_pred_train)"
   ]
  },
  {
   "cell_type": "code",
   "execution_count": 782,
   "id": "69048dbe",
   "metadata": {},
   "outputs": [
    {
     "name": "stdout",
     "output_type": "stream",
     "text": [
      "R^2 score of train data0.6213517392874228\n",
      "R^2 score of test data0.617756444850681\n"
     ]
    }
   ],
   "source": [
    "print('R^2 score of train data{}'.format(r_train))\n",
    "print('R^2 score of test data{}'.format(r_test))"
   ]
  },
  {
   "cell_type": "markdown",
   "id": "4e9e57ab",
   "metadata": {},
   "source": [
    "### Model Evaluation"
   ]
  },
  {
   "cell_type": "code",
   "execution_count": 783,
   "id": "aa9e3329",
   "metadata": {},
   "outputs": [
    {
     "data": {
      "text/plain": [
       "Text(0.5, 0, 'Errors')"
      ]
     },
     "execution_count": 783,
     "metadata": {},
     "output_type": "execute_result"
    },
    {
     "data": {
      "image/png": "[encoded data removed]",
      "text/plain": [
       "<Figure size 432x288 with 1 Axes>"
      ]
     },
     "metadata": {
      "needs_background": "light"
     },
     "output_type": "display_data"
    }
   ],
   "source": [
    "fig = plt.figure()\n",
    "sns.distplot((y_pred - y_test_r), bins = 20)\n",
    "fig.suptitle('Error Terms of decision', fontsize = 20)                  # This does not look good\n",
    "plt.xlabel('Errors', fontsize = 18)\n",
    "\n",
    "# this is not a normal distribution but we can work with it"
   ]
  },
  {
   "cell_type": "code",
   "execution_count": 784,
   "id": "daa00ed3",
   "metadata": {},
   "outputs": [
    {
     "data": {
      "text/plain": [
       "Text(0, 0.5, 'y_pred')"
      ]
     },
     "execution_count": 784,
     "metadata": {},
     "output_type": "execute_result"
    },
    {
     "data": {
      "image/png": "[encoded data removed]",
      "text/plain": [
       "<Figure size 432x288 with 1 Axes>"
      ]
     },
     "metadata": {
      "needs_background": "light"
     },
     "output_type": "display_data"
    }
   ],
   "source": [
    "fig = plt.figure()\n",
    "plt.scatter(y_test_r, y_pred)\n",
    "fig.suptitle('y_test vs y_price of decision', fontsize=20)              \n",
    "plt.xlabel('y_test', fontsize=18)                          \n",
    "plt.ylabel('y_pred', fontsize=16) \n",
    "\n",
    "# we see some kind of linearity"
   ]
  },
  {
   "cell_type": "code",
   "execution_count": 785,
   "id": "dc94f0f1",
   "metadata": {},
   "outputs": [
    {
     "data": {
      "text/plain": [
       "Text(0, 0.5, 'y_pred')"
      ]
     },
     "execution_count": 785,
     "metadata": {},
     "output_type": "execute_result"
    },
    {
     "data": {
      "image/png": "[encoded data removed]",
      "text/plain": [
       "<Figure size 432x288 with 1 Axes>"
      ]
     },
     "metadata": {
      "needs_background": "light"
     },
     "output_type": "display_data"
    }
   ],
   "source": [
    "fig = plt.figure()\n",
    "res_y = y_test_r - y_pred\n",
    "plt.scatter(y_pred,res_y)\n",
    "fig.suptitle('y_pred vs residuals of decision', fontsize=20)              \n",
    "plt.xlabel('y_test', fontsize=18)                          \n",
    "plt.ylabel('y_pred', fontsize=16) \n",
    "\n",
    "# the residuals are fairly random"
   ]
  },
  {
   "cell_type": "markdown",
   "id": "aee20ef3",
   "metadata": {},
   "source": [
    "### Random Forest"
   ]
  },
  {
   "cell_type": "code",
   "execution_count": 786,
   "id": "0f691219",
   "metadata": {},
   "outputs": [
    {
     "name": "stdout",
     "output_type": "stream",
     "text": [
      "0.030924036192659543\n"
     ]
    }
   ],
   "source": [
    "from sklearn.ensemble import RandomForestRegressor\n",
    "from sklearn.metrics import mean_absolute_error\n",
    "\n",
    "forest_model = RandomForestRegressor(random_state=1)\n",
    "forest_model.fit(X_train_r, y_train_r)\n",
    "melb_preds = forest_model.predict(X_test_r)\n",
    "print(mean_absolute_error(y_test_r, melb_preds))"
   ]
  },
  {
   "cell_type": "code",
   "execution_count": 787,
   "id": "052abaa5",
   "metadata": {},
   "outputs": [
    {
     "name": "stdout",
     "output_type": "stream",
     "text": [
      "R^2 score of RandomForest0.5697849142231329\n"
     ]
    }
   ],
   "source": [
    "\n",
    "print('R^2 score of RandomForest{}'.format(r2_score(y_test_r, melb_preds)))\n",
    "# The decision tree was performing better"
   ]
  },
  {
   "cell_type": "markdown",
   "id": "70cebc19",
   "metadata": {},
   "source": [
    "\n",
    "### Linear Regression"
   ]
  },
  {
   "cell_type": "code",
   "execution_count": 788,
   "id": "c38ea0d0",
   "metadata": {},
   "outputs": [],
   "source": [
    "from sklearn.linear_model import LinearRegression\n",
    "lr = LinearRegression()"
   ]
  },
  {
   "cell_type": "code",
   "execution_count": 803,
   "id": "233392d8",
   "metadata": {},
   "outputs": [],
   "source": [
    "#from sklearn.feature_selection import RFE\n",
    "\n",
    "\n",
    "lm = LinearRegression()\n",
    "lm.fit(X_train_r, y_train_r)\n",
    "\n",
    "rfe = RFE(estimator = LinearRegression(), n_features_to_select = 7)             \n",
    "rfe = rfe.fit(X_train_r, y_train_r)"
   ]
  },
  {
   "cell_type": "code",
   "execution_count": 804,
   "id": "02980f45",
   "metadata": {},
   "outputs": [
    {
     "data": {
      "text/plain": [
       "[('REGION_POPULATION_RELATIVE', False, 9),\n",
       " ('TOTAL_DOCUMENTS', True, 1),\n",
       " ('EXT_SOURCE_2', False, 6),\n",
       " ('AGE_GRP', False, 10),\n",
       " ('YEARS_EMPLOYED', False, 7),\n",
       " ('PREV_NAME_CONTRACT_TYPE_Consumer loans', True, 1),\n",
       " ('PREV_NAME_CONTRACT_TYPE_Revolving loans', True, 1),\n",
       " ('CHANNEL_TYPE_Car dealer', True, 1),\n",
       " ('CHANNEL_TYPE_Channel of corporate sales', True, 1),\n",
       " ('CHANNEL_TYPE_Contact center', False, 3),\n",
       " ('CHANNEL_TYPE_Country-wide', False, 2),\n",
       " ('CHANNEL_TYPE_Credit and cash offices', True, 1),\n",
       " ('CHANNEL_TYPE_Regional / Local', False, 5),\n",
       " ('CHANNEL_TYPE_Stone', False, 4),\n",
       " ('cluster_id_seg2', False, 8),\n",
       " ('cluster_id_seg3', True, 1)]"
      ]
     },
     "execution_count": 804,
     "metadata": {},
     "output_type": "execute_result"
    }
   ],
   "source": [
    "list(zip(X_train_r.columns,rfe.support_,rfe.ranking_))"
   ]
  },
  {
   "cell_type": "code",
   "execution_count": 805,
   "id": "02befdaf",
   "metadata": {},
   "outputs": [
    {
     "data": {
      "text/plain": [
       "Index(['TOTAL_DOCUMENTS', 'PREV_NAME_CONTRACT_TYPE_Consumer loans',\n",
       "       'PREV_NAME_CONTRACT_TYPE_Revolving loans', 'CHANNEL_TYPE_Car dealer',\n",
       "       'CHANNEL_TYPE_Channel of corporate sales',\n",
       "       'CHANNEL_TYPE_Credit and cash offices', 'cluster_id_seg3'],\n",
       "      dtype='object')"
      ]
     },
     "execution_count": 805,
     "metadata": {},
     "output_type": "execute_result"
    }
   ],
   "source": [
    "col = X_train_r.columns[rfe.support_]\n",
    "col"
   ]
  },
  {
   "cell_type": "code",
   "execution_count": 806,
   "id": "bfce4c1a",
   "metadata": {},
   "outputs": [],
   "source": [
    "X_train_rfe = X_train_r[col]\n",
    "X_test_rfe = X_test_r[col]"
   ]
  },
  {
   "cell_type": "code",
   "execution_count": 807,
   "id": "ca06744b",
   "metadata": {},
   "outputs": [],
   "source": [
    "import statsmodels.api as sm\n",
    "\n",
    "X_train_sm = sm.add_constant(X_train_rfe)"
   ]
  },
  {
   "cell_type": "code",
   "execution_count": 808,
   "id": "71446d6b",
   "metadata": {},
   "outputs": [],
   "source": [
    "y_train_r = y_train_r.T.drop_duplicates().T\n",
    "lr = sm.OLS(y_train_r, X_train_sm).fit()\n"
   ]
  },
  {
   "cell_type": "code",
   "execution_count": 809,
   "id": "725955ec",
   "metadata": {},
   "outputs": [
    {
     "data": {
      "text/html": [
       "<table class=\"simpletable\">\n",
       "<caption>OLS Regression Results</caption>\n",
       "<tr>\n",
       "  <th>Dep. Variable:</th>     <td>AMT_APPLICATION</td> <th>  R-squared:         </th>  <td>   0.608</td> \n",
       "</tr>\n",
       "<tr>\n",
       "  <th>Model:</th>                   <td>OLS</td>       <th>  Adj. R-squared:    </th>  <td>   0.608</td> \n",
       "</tr>\n",
       "<tr>\n",
       "  <th>Method:</th>             <td>Least Squares</td>  <th>  F-statistic:       </th>  <td>5.396e+04</td>\n",
       "</tr>\n",
       "<tr>\n",
       "  <th>Date:</th>             <td>Tue, 29 Nov 2022</td> <th>  Prob (F-statistic):</th>   <td>  0.00</td>  \n",
       "</tr>\n",
       "<tr>\n",
       "  <th>Time:</th>                 <td>14:41:36</td>     <th>  Log-Likelihood:    </th> <td>3.9936e+05</td>\n",
       "</tr>\n",
       "<tr>\n",
       "  <th>No. Observations:</th>      <td>243932</td>      <th>  AIC:               </th> <td>-7.987e+05</td>\n",
       "</tr>\n",
       "<tr>\n",
       "  <th>Df Residuals:</th>          <td>243924</td>      <th>  BIC:               </th> <td>-7.986e+05</td>\n",
       "</tr>\n",
       "<tr>\n",
       "  <th>Df Model:</th>              <td>     7</td>      <th>                     </th>      <td> </td>    \n",
       "</tr>\n",
       "<tr>\n",
       "  <th>Covariance Type:</th>      <td>nonrobust</td>    <th>                     </th>      <td> </td>    \n",
       "</tr>\n",
       "</table>\n",
       "<table class=\"simpletable\">\n",
       "<tr>\n",
       "                     <td></td>                        <th>coef</th>     <th>std err</th>      <th>t</th>      <th>P>|t|</th>  <th>[0.025</th>    <th>0.975]</th>  \n",
       "</tr>\n",
       "<tr>\n",
       "  <th>const</th>                                   <td>    0.0403</td> <td>    0.000</td> <td>  101.975</td> <td> 0.000</td> <td>    0.040</td> <td>    0.041</td>\n",
       "</tr>\n",
       "<tr>\n",
       "  <th>TOTAL_DOCUMENTS</th>                         <td>    0.0188</td> <td>    0.001</td> <td>   16.800</td> <td> 0.000</td> <td>    0.017</td> <td>    0.021</td>\n",
       "</tr>\n",
       "<tr>\n",
       "  <th>PREV_NAME_CONTRACT_TYPE_Consumer loans</th>  <td>   -0.0215</td> <td>    0.000</td> <td>  -66.133</td> <td> 0.000</td> <td>   -0.022</td> <td>   -0.021</td>\n",
       "</tr>\n",
       "<tr>\n",
       "  <th>PREV_NAME_CONTRACT_TYPE_Revolving loans</th> <td>   -0.0217</td> <td>    0.000</td> <td>  -67.239</td> <td> 0.000</td> <td>   -0.022</td> <td>   -0.021</td>\n",
       "</tr>\n",
       "<tr>\n",
       "  <th>CHANNEL_TYPE_Car dealer</th>                 <td>    0.1745</td> <td>    0.006</td> <td>   30.956</td> <td> 0.000</td> <td>    0.163</td> <td>    0.186</td>\n",
       "</tr>\n",
       "<tr>\n",
       "  <th>CHANNEL_TYPE_Channel of corporate sales</th> <td>    0.0529</td> <td>    0.002</td> <td>   34.909</td> <td> 0.000</td> <td>    0.050</td> <td>    0.056</td>\n",
       "</tr>\n",
       "<tr>\n",
       "  <th>CHANNEL_TYPE_Credit and cash offices</th>    <td>   -0.0057</td> <td>    0.000</td> <td>  -18.491</td> <td> 0.000</td> <td>   -0.006</td> <td>   -0.005</td>\n",
       "</tr>\n",
       "<tr>\n",
       "  <th>cluster_id_seg3</th>                         <td>    0.2227</td> <td>    0.000</td> <td>  555.498</td> <td> 0.000</td> <td>    0.222</td> <td>    0.224</td>\n",
       "</tr>\n",
       "</table>\n",
       "<table class=\"simpletable\">\n",
       "<tr>\n",
       "  <th>Omnibus:</th>       <td>129198.121</td> <th>  Durbin-Watson:     </th>  <td>   2.001</td>  \n",
       "</tr>\n",
       "<tr>\n",
       "  <th>Prob(Omnibus):</th>   <td> 0.000</td>   <th>  Jarque-Bera (JB):  </th> <td>2122311.329</td>\n",
       "</tr>\n",
       "<tr>\n",
       "  <th>Skew:</th>            <td> 2.180</td>   <th>  Prob(JB):          </th>  <td>    0.00</td>  \n",
       "</tr>\n",
       "<tr>\n",
       "  <th>Kurtosis:</th>        <td>16.777</td>   <th>  Cond. No.          </th>  <td>    71.6</td>  \n",
       "</tr>\n",
       "</table><br/><br/>Notes:<br/>[1] Standard Errors assume that the covariance matrix of the errors is correctly specified."
      ],
      "text/plain": [
       "<class 'statsmodels.iolib.summary.Summary'>\n",
       "\"\"\"\n",
       "                            OLS Regression Results                            \n",
       "==============================================================================\n",
       "Dep. Variable:        AMT_APPLICATION   R-squared:                       0.608\n",
       "Model:                            OLS   Adj. R-squared:                  0.608\n",
       "Method:                 Least Squares   F-statistic:                 5.396e+04\n",
       "Date:                Tue, 29 Nov 2022   Prob (F-statistic):               0.00\n",
       "Time:                        14:41:36   Log-Likelihood:             3.9936e+05\n",
       "No. Observations:              243932   AIC:                        -7.987e+05\n",
       "Df Residuals:                  243924   BIC:                        -7.986e+05\n",
       "Df Model:                           7                                         \n",
       "Covariance Type:            nonrobust                                         \n",
       "===========================================================================================================\n",
       "                                              coef    std err          t      P>|t|      [0.025      0.975]\n",
       "-----------------------------------------------------------------------------------------------------------\n",
       "const                                       0.0403      0.000    101.975      0.000       0.040       0.041\n",
       "TOTAL_DOCUMENTS                             0.0188      0.001     16.800      0.000       0.017       0.021\n",
       "PREV_NAME_CONTRACT_TYPE_Consumer loans     -0.0215      0.000    -66.133      0.000      -0.022      -0.021\n",
       "PREV_NAME_CONTRACT_TYPE_Revolving loans    -0.0217      0.000    -67.239      0.000      -0.022      -0.021\n",
       "CHANNEL_TYPE_Car dealer                     0.1745      0.006     30.956      0.000       0.163       0.186\n",
       "CHANNEL_TYPE_Channel of corporate sales     0.0529      0.002     34.909      0.000       0.050       0.056\n",
       "CHANNEL_TYPE_Credit and cash offices       -0.0057      0.000    -18.491      0.000      -0.006      -0.005\n",
       "cluster_id_seg3                             0.2227      0.000    555.498      0.000       0.222       0.224\n",
       "==============================================================================\n",
       "Omnibus:                   129198.121   Durbin-Watson:                   2.001\n",
       "Prob(Omnibus):                  0.000   Jarque-Bera (JB):          2122311.329\n",
       "Skew:                           2.180   Prob(JB):                         0.00\n",
       "Kurtosis:                      16.777   Cond. No.                         71.6\n",
       "==============================================================================\n",
       "\n",
       "Notes:\n",
       "[1] Standard Errors assume that the covariance matrix of the errors is correctly specified.\n",
       "\"\"\""
      ]
     },
     "execution_count": 809,
     "metadata": {},
     "output_type": "execute_result"
    }
   ],
   "source": [
    "lr.summary()"
   ]
  },
  {
   "cell_type": "code",
   "execution_count": 810,
   "id": "575fc036",
   "metadata": {},
   "outputs": [],
   "source": [
    "X_test_sm = sm.add_constant(X_test_rfe)\n"
   ]
  },
  {
   "cell_type": "code",
   "execution_count": 811,
   "id": "4622a0ce",
   "metadata": {},
   "outputs": [],
   "source": [
    "linreg_pred = lr.predict(X_test_sm)\n"
   ]
  },
  {
   "cell_type": "code",
   "execution_count": 812,
   "id": "11b35c2a",
   "metadata": {},
   "outputs": [],
   "source": [
    "linreg_pred_train = lr.predict(X_train_sm)"
   ]
  },
  {
   "cell_type": "code",
   "execution_count": 813,
   "id": "27459826",
   "metadata": {},
   "outputs": [],
   "source": [
    "y_test_r = y_test_r.T.drop_duplicates().T\n",
    "\n",
    "\n"
   ]
  },
  {
   "cell_type": "code",
   "execution_count": 828,
   "id": "d28ec9de",
   "metadata": {},
   "outputs": [
    {
     "name": "stdout",
     "output_type": "stream",
     "text": [
      "R^2 of linear regression of test set is 0.607302714623466\n",
      "R^2 of linear regression of train set is 0.6076126239219112\n"
     ]
    }
   ],
   "source": [
    "print('R^2 of linear regression of test set is {}'.format(r2_score(y_test_r, linreg_pred)))\n",
    "print('R^2 of linear regression of train set is {}'.format(r2_score(y_train_r, linreg_pred_train)))"
   ]
  },
  {
   "cell_type": "code",
   "execution_count": 821,
   "id": "ad6928ba",
   "metadata": {},
   "outputs": [
    {
     "data": {
      "text/html": [
       "<div>\n",
       "<style scoped>\n",
       "    .dataframe tbody tr th:only-of-type {\n",
       "        vertical-align: middle;\n",
       "    }\n",
       "\n",
       "    .dataframe tbody tr th {\n",
       "        vertical-align: top;\n",
       "    }\n",
       "\n",
       "    .dataframe thead th {\n",
       "        text-align: right;\n",
       "    }\n",
       "</style>\n",
       "<table border=\"1\" class=\"dataframe\">\n",
       "  <thead>\n",
       "    <tr style=\"text-align: right;\">\n",
       "      <th></th>\n",
       "      <th>TOTAL_DOCUMENTS</th>\n",
       "      <th>PREV_NAME_CONTRACT_TYPE_Consumer loans</th>\n",
       "      <th>PREV_NAME_CONTRACT_TYPE_Revolving loans</th>\n",
       "      <th>CHANNEL_TYPE_Car dealer</th>\n",
       "      <th>CHANNEL_TYPE_Channel of corporate sales</th>\n",
       "      <th>CHANNEL_TYPE_Credit and cash offices</th>\n",
       "    </tr>\n",
       "  </thead>\n",
       "  <tbody>\n",
       "    <tr>\n",
       "      <th>43285</th>\n",
       "      <td>0.25</td>\n",
       "      <td>1</td>\n",
       "      <td>0</td>\n",
       "      <td>0</td>\n",
       "      <td>0</td>\n",
       "      <td>0</td>\n",
       "    </tr>\n",
       "    <tr>\n",
       "      <th>251502</th>\n",
       "      <td>0.25</td>\n",
       "      <td>1</td>\n",
       "      <td>0</td>\n",
       "      <td>0</td>\n",
       "      <td>0</td>\n",
       "      <td>0</td>\n",
       "    </tr>\n",
       "    <tr>\n",
       "      <th>174909</th>\n",
       "      <td>0.25</td>\n",
       "      <td>0</td>\n",
       "      <td>0</td>\n",
       "      <td>0</td>\n",
       "      <td>0</td>\n",
       "      <td>1</td>\n",
       "    </tr>\n",
       "    <tr>\n",
       "      <th>97632</th>\n",
       "      <td>0.25</td>\n",
       "      <td>0</td>\n",
       "      <td>0</td>\n",
       "      <td>0</td>\n",
       "      <td>0</td>\n",
       "      <td>1</td>\n",
       "    </tr>\n",
       "    <tr>\n",
       "      <th>169724</th>\n",
       "      <td>0.25</td>\n",
       "      <td>1</td>\n",
       "      <td>0</td>\n",
       "      <td>0</td>\n",
       "      <td>0</td>\n",
       "      <td>0</td>\n",
       "    </tr>\n",
       "    <tr>\n",
       "      <th>...</th>\n",
       "      <td>...</td>\n",
       "      <td>...</td>\n",
       "      <td>...</td>\n",
       "      <td>...</td>\n",
       "      <td>...</td>\n",
       "      <td>...</td>\n",
       "    </tr>\n",
       "    <tr>\n",
       "      <th>65615</th>\n",
       "      <td>0.25</td>\n",
       "      <td>1</td>\n",
       "      <td>0</td>\n",
       "      <td>0</td>\n",
       "      <td>0</td>\n",
       "      <td>0</td>\n",
       "    </tr>\n",
       "    <tr>\n",
       "      <th>253799</th>\n",
       "      <td>0.25</td>\n",
       "      <td>0</td>\n",
       "      <td>0</td>\n",
       "      <td>0</td>\n",
       "      <td>0</td>\n",
       "      <td>1</td>\n",
       "    </tr>\n",
       "    <tr>\n",
       "      <th>210755</th>\n",
       "      <td>0.25</td>\n",
       "      <td>0</td>\n",
       "      <td>0</td>\n",
       "      <td>0</td>\n",
       "      <td>0</td>\n",
       "      <td>1</td>\n",
       "    </tr>\n",
       "    <tr>\n",
       "      <th>56088</th>\n",
       "      <td>0.25</td>\n",
       "      <td>1</td>\n",
       "      <td>0</td>\n",
       "      <td>0</td>\n",
       "      <td>0</td>\n",
       "      <td>0</td>\n",
       "    </tr>\n",
       "    <tr>\n",
       "      <th>300552</th>\n",
       "      <td>0.25</td>\n",
       "      <td>1</td>\n",
       "      <td>0</td>\n",
       "      <td>0</td>\n",
       "      <td>0</td>\n",
       "      <td>0</td>\n",
       "    </tr>\n",
       "  </tbody>\n",
       "</table>\n",
       "<p>243932 rows × 6 columns</p>\n",
       "</div>"
      ],
      "text/plain": [
       "        TOTAL_DOCUMENTS  PREV_NAME_CONTRACT_TYPE_Consumer loans  \\\n",
       "43285              0.25                                       1   \n",
       "251502             0.25                                       1   \n",
       "174909             0.25                                       0   \n",
       "97632              0.25                                       0   \n",
       "169724             0.25                                       1   \n",
       "...                 ...                                     ...   \n",
       "65615              0.25                                       1   \n",
       "253799             0.25                                       0   \n",
       "210755             0.25                                       0   \n",
       "56088              0.25                                       1   \n",
       "300552             0.25                                       1   \n",
       "\n",
       "        PREV_NAME_CONTRACT_TYPE_Revolving loans  CHANNEL_TYPE_Car dealer  \\\n",
       "43285                                         0                        0   \n",
       "251502                                        0                        0   \n",
       "174909                                        0                        0   \n",
       "97632                                         0                        0   \n",
       "169724                                        0                        0   \n",
       "...                                         ...                      ...   \n",
       "65615                                         0                        0   \n",
       "253799                                        0                        0   \n",
       "210755                                        0                        0   \n",
       "56088                                         0                        0   \n",
       "300552                                        0                        0   \n",
       "\n",
       "        CHANNEL_TYPE_Channel of corporate sales  \\\n",
       "43285                                         0   \n",
       "251502                                        0   \n",
       "174909                                        0   \n",
       "97632                                         0   \n",
       "169724                                        0   \n",
       "...                                         ...   \n",
       "65615                                         0   \n",
       "253799                                        0   \n",
       "210755                                        0   \n",
       "56088                                         0   \n",
       "300552                                        0   \n",
       "\n",
       "        CHANNEL_TYPE_Credit and cash offices  \n",
       "43285                                      0  \n",
       "251502                                     0  \n",
       "174909                                     1  \n",
       "97632                                      1  \n",
       "169724                                     0  \n",
       "...                                      ...  \n",
       "65615                                      0  \n",
       "253799                                     1  \n",
       "210755                                     1  \n",
       "56088                                      0  \n",
       "300552                                     0  \n",
       "\n",
       "[243932 rows x 6 columns]"
      ]
     },
     "execution_count": 821,
     "metadata": {},
     "output_type": "execute_result"
    }
   ],
   "source": [
    "X_train_rfe.drop(['cluster_id_seg3'], axis = 1, inplace = True)\n",
    "X_test_rfe.drop(['cluster_id_seg3'], axis = 1, inplace = True)\n",
    "\n",
    "\n",
    "# now what happens if we drop the cluster variable?"
   ]
  },
  {
   "cell_type": "code",
   "execution_count": 825,
   "id": "a025650b",
   "metadata": {},
   "outputs": [],
   "source": [
    "X_train_sm2 = sm.add_constant(X_train_rfe)\n",
    "X_test_sm2 = sm.add_constant(X_test_rfe)\n",
    "lr2 = sm.OLS(y_train_r, X_train_sm2).fit()\n",
    "X_test_sm2 = sm.add_constant(X_test_rfe)\n",
    "linreg_pred2 = lr.predict(X_test_sm2)\n",
    "linreg_pred_train2 = lr.predict(X_train_sm2)"
   ]
  },
  {
   "cell_type": "code",
   "execution_count": 826,
   "id": "775d7e06",
   "metadata": {},
   "outputs": [
    {
     "name": "stdout",
     "output_type": "stream",
     "text": [
      "R^2 of linear regression of test set is 0.10867394515518625\n"
     ]
    }
   ],
   "source": [
    "print('R^2 of linear regression of test set is {}'.format(r2_score(y_test_r, linreg_pred2)))"
   ]
  },
  {
   "cell_type": "code",
   "execution_count": 827,
   "id": "c3a4521c",
   "metadata": {},
   "outputs": [
    {
     "name": "stdout",
     "output_type": "stream",
     "text": [
      "R^2 of linear regression of train set is 0.11122003441457129\n"
     ]
    }
   ],
   "source": [
    "print('R^2 of linear regression of train set is {}'.format(r2_score(y_train_r, linreg_pred_train2)))\n",
    "\n",
    "\n",
    "# the model loses almost all its exxplainability"
   ]
  },
  {
   "cell_type": "markdown",
   "id": "18e1a928",
   "metadata": {},
   "source": [
    "### Although this is not a good prediction, this is better than no prediction at all\n",
    "   - We can find out what is the loan amt to offer\n",
    "   - without the cluster_id dummy the linear regression loses almost all its performance\n",
    "   - So the segmentation done is the previous section was significant\n",
    "   - in conclusion, the solution to the regression problem is not satisfactory, but it can be used to predict the estimated credit\n",
    "   - and the solutions of both the classification and the regression problem cannot be found for the same dataset. "
   ]
  }
 ],
 "metadata": {
  "kernelspec": {
   "display_name": "Python 3 (ipykernel)",
   "language": "python",
   "name": "python3"
  },
  "language_info": {
   "codemirror_mode": {
    "name": "ipython",
    "version": 3
   },
   "file_extension": ".py",
   "mimetype": "text/x-python",
   "name": "python",
   "nbconvert_exporter": "python",
   "pygments_lexer": "ipython3",
   "version": "3.9.12"
  }
 },
 "nbformat": 4,
 "nbformat_minor": 5
}
